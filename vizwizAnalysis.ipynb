{
 "cells": [
  {
   "cell_type": "code",
   "execution_count": null,
   "metadata": {
    "colab": {
     "base_uri": "https://localhost:8080/"
    },
    "id": "Dwc21HC6TtlS",
    "outputId": "2e80f80d-4048-48b8-9b0e-0705790a981d"
   },
   "outputs": [
    {
     "name": "stdout",
     "output_type": "stream",
     "text": [
      "Mounted at /content/gdrive\n"
     ]
    }
   ],
   "source": [
    "from google.colab import drive\n",
    "drive.mount('/content/gdrive')"
   ]
  },
  {
   "cell_type": "code",
   "execution_count": null,
   "metadata": {
    "id": "mwwIDfwQTvEX"
   },
   "outputs": [],
   "source": [
    "import sys\n",
    "import pandas as pd\n",
    "import json\n",
    "import pickle\n",
    "import os\n",
    "import matplotlib.pyplot as plt \n",
    "import seaborn as sns\n",
    "from palettable.colorbrewer.qualitative import Pastel1_7"
   ]
  },
  {
   "cell_type": "code",
   "execution_count": null,
   "metadata": {
    "id": "LUdiAxLlT1Gx"
   },
   "outputs": [],
   "source": [
    "#from miscc.config import cfg, cfg_from_file\n",
    "sys.path.append('/content/gdrive/MyDrive/ManiGAN-master/data/birds/train')"
   ]
  },
  {
   "cell_type": "code",
   "execution_count": null,
   "metadata": {
    "id": "Mmgsg3-qT5uc"
   },
   "outputs": [],
   "source": [
    "object = pd.read_pickle(r'/content/gdrive/MyDrive/ManiGAN-master/data/coco/train/filenames.pickle')"
   ]
  },
  {
   "cell_type": "code",
   "execution_count": null,
   "metadata": {
    "id": "ZStQuhUVUT3L"
   },
   "outputs": [],
   "source": [
    "object"
   ]
  },
  {
   "cell_type": "code",
   "execution_count": null,
   "metadata": {
    "id": "moPpIadgUgbv"
   },
   "outputs": [],
   "source": [
    "object = pd.read_pickle(r'/content/gdrive/MyDrive/ManiGAN-master/data/coco/test/filenames.pickle')"
   ]
  },
  {
   "cell_type": "markdown",
   "metadata": {
    "id": "vgtw38t2l_oY"
   },
   "source": [
    "**Validation**"
   ]
  },
  {
   "cell_type": "code",
   "execution_count": null,
   "metadata": {
    "colab": {
     "base_uri": "https://localhost:8080/"
    },
    "id": "nWu5AFDReYwi",
    "outputId": "4ec7e452-10d4-4698-d76d-4e419fe9a66b"
   },
   "outputs": [
    {
     "name": "stderr",
     "output_type": "stream",
     "text": [
      "IOPub data rate exceeded.\n",
      "The notebook server will temporarily stop sending output\n",
      "to the client in order to avoid crashing it.\n",
      "To change this limit, set the config variable\n",
      "`--NotebookApp.iopub_data_rate_limit`.\n",
      "\n",
      "Current values:\n",
      "NotebookApp.iopub_data_rate_limit=1000000.0 (bytes/sec)\n",
      "NotebookApp.rate_limit_window=3.0 (secs)\n",
      "\n"
     ]
    }
   ],
   "source": [
    "new_path = \"/content/gdrive/MyDrive/Open-Edit/datasets/vizwiz/val.json\"\n",
    "with open(new_path) as data_file:\n",
    "  data = data_file.read()\n",
    "  data_content = json.loads(data)"
   ]
  },
  {
   "cell_type": "code",
   "execution_count": null,
   "metadata": {
    "id": "AukTeaqefMMT"
   },
   "outputs": [],
   "source": [
    "items= []\n",
    "for i in data_content['images']:\n",
    "  items.append(i['file_name'].split('.')[0])"
   ]
  },
  {
   "cell_type": "code",
   "execution_count": null,
   "metadata": {
    "id": "gUz0Jwjii0kC"
   },
   "outputs": [],
   "source": [
    "with open('/content/gdrive/MyDrive/Open-Edit/datasets/vizwiz/filenames.pickle', 'wb') as f:\n",
    "  pickle.dump(items, f)"
   ]
  },
  {
   "cell_type": "code",
   "execution_count": null,
   "metadata": {
    "id": "IR2wTiFEefkq"
   },
   "outputs": [],
   "source": [
    "object = pd.read_pickle(r'/content/gdrive/MyDrive/Open-Edit/datasets/vizwiz/filenames.pickle')"
   ]
  },
  {
   "cell_type": "code",
   "execution_count": null,
   "metadata": {
    "id": "kKuU_cv5eDHM"
   },
   "outputs": [],
   "source": [
    "object"
   ]
  },
  {
   "cell_type": "markdown",
   "metadata": {
    "id": "tzMKauxHmC4W"
   },
   "source": [
    "**Train**"
   ]
  },
  {
   "cell_type": "code",
   "execution_count": null,
   "metadata": {
    "id": "r6STUn-KmJhW"
   },
   "outputs": [],
   "source": [
    "new_path = \"/content/gdrive/MyDrive/Open-Edit/datasets/vizwiz/train/train.json\"\n",
    "with open(new_path) as data_file:\n",
    "  data = data_file.read()\n",
    "  data_content = json.loads(data)"
   ]
  },
  {
   "cell_type": "code",
   "execution_count": null,
   "metadata": {
    "id": "tsEBxMA0mJhX"
   },
   "outputs": [],
   "source": [
    "items= []\n",
    "for i in data_content['images']:\n",
    "  items.append(i['file_name'].split('.')[0])"
   ]
  },
  {
   "cell_type": "code",
   "execution_count": null,
   "metadata": {
    "id": "03myHOHQmJhX"
   },
   "outputs": [],
   "source": [
    "with open('/content/gdrive/MyDrive/Open-Edit/datasets/vizwiz/train/filenames.pickle', 'wb') as f:\n",
    "  pickle.dump(items, f)"
   ]
  },
  {
   "cell_type": "code",
   "execution_count": null,
   "metadata": {
    "id": "pDDpe9YqmJhX"
   },
   "outputs": [],
   "source": [
    "object = pd.read_pickle(r'/content/gdrive/MyDrive/Open-Edit/datasets/vizwiz/train/filenames.pickle')"
   ]
  },
  {
   "cell_type": "code",
   "execution_count": null,
   "metadata": {
    "id": "OAXgGyTgmJhY"
   },
   "outputs": [],
   "source": [
    "object"
   ]
  },
  {
   "cell_type": "markdown",
   "metadata": {
    "id": "VqVr5XsZMYn8"
   },
   "source": [
    "**Text**"
   ]
  },
  {
   "cell_type": "code",
   "execution_count": null,
   "metadata": {
    "id": "0HpJJuQdMaYF"
   },
   "outputs": [],
   "source": [
    "new_path = \"/content/gdrive/MyDrive/Open-Edit/datasets/vizwiz_manigan/train/train.json\"\n",
    "with open(new_path) as data_file:\n",
    "  data = data_file.read()\n",
    "  data_content = json.loads(data)"
   ]
  },
  {
   "cell_type": "code",
   "execution_count": null,
   "metadata": {
    "id": "MNbySHFtNGq7"
   },
   "outputs": [],
   "source": [
    "dictt = [{'caption': 'The side label of a can that is showing the ingredients.',\n",
    "  'id': 971,\n",
    "  'image_id': 194,\n",
    "  'is_precanned': False,\n",
    "  'is_rejected': False,\n",
    "  'text_detected': True},\n",
    "  {'caption': 'Quality issues are too severe to recognize visual content.',\n",
    "  'id': 965,\n",
    "  'image_id': 193,\n",
    "  'is_precanned': True,\n",
    "  'is_rejected': False,\n",
    "  'text_detected': True}]"
   ]
  },
  {
   "cell_type": "code",
   "execution_count": null,
   "metadata": {
    "colab": {
     "base_uri": "https://localhost:8080/"
    },
    "id": "rePA5F-PNID3",
    "outputId": "4aaf8f4f-f8e6-4cab-c8d9-f127f0864211"
   },
   "outputs": [
    {
     "data": {
      "text/plain": [
       "965"
      ]
     },
     "execution_count": 13,
     "metadata": {
      "tags": []
     },
     "output_type": "execute_result"
    }
   ],
   "source": [
    "dictt[1]['id']"
   ]
  },
  {
   "cell_type": "code",
   "execution_count": null,
   "metadata": {
    "colab": {
     "base_uri": "https://localhost:8080/"
    },
    "id": "i8Xm5C5xS15u",
    "outputId": "a6d025d2-acde-441e-c97d-15500fdebdc1"
   },
   "outputs": [
    {
     "name": "stdout",
     "output_type": "stream",
     "text": [
      "{'file_name': 'VizWiz_train_00000194.jpg', 'vizwiz_url': 'https://ivc.ischool.utexas.edu/VizWiz_visualization_img/VizWiz_train_00000194.jpg', 'id': 194, 'text_detected': True}\n"
     ]
    }
   ],
   "source": [
    "for i in data_content['images']:\n",
    "  if i['id'] == 194:\n",
    "    print(i)"
   ]
  },
  {
   "cell_type": "code",
   "execution_count": null,
   "metadata": {
    "colab": {
     "base_uri": "https://localhost:8080/"
    },
    "id": "EVq_jH8dMxy_",
    "outputId": "24d7979b-f663-4559-b943-fabfb2bf0544"
   },
   "outputs": [
    {
     "name": "stdout",
     "output_type": "stream",
     "text": [
      "{'caption': 'The backside of a soup can showing its nutrition label', 'image_id': 194, 'is_precanned': False, 'is_rejected': False, 'id': 970, 'text_detected': False}\n",
      "{'caption': 'The side label of a can that is showing the ingredients.', 'image_id': 194, 'is_precanned': False, 'is_rejected': False, 'id': 971, 'text_detected': True}\n",
      "{'caption': 'Ingredients label and preparation instructions in French and English.', 'image_id': 194, 'is_precanned': False, 'is_rejected': False, 'id': 972, 'text_detected': True}\n",
      "{'caption': 'Here is a can of beans showing the label and on a blue fabric surface.', 'image_id': 194, 'is_precanned': False, 'is_rejected': False, 'id': 973, 'text_detected': True}\n",
      "{'caption': 'Label of a canned good showing the ingredients.', 'image_id': 194, 'is_precanned': False, 'is_rejected': False, 'id': 974, 'text_detected': True}\n"
     ]
    }
   ],
   "source": [
    "for i in data_content['annotations']:\n",
    "  if i['image_id'] == 194:\n",
    "    print(i)"
   ]
  },
  {
   "cell_type": "code",
   "execution_count": null,
   "metadata": {
    "id": "7xiDG6OATOIG"
   },
   "outputs": [],
   "source": [
    "df = pd.DataFrame(data_content['images'])"
   ]
  },
  {
   "cell_type": "code",
   "execution_count": null,
   "metadata": {
    "colab": {
     "base_uri": "https://localhost:8080/",
     "height": 419
    },
    "id": "0qiMo30VTSth",
    "outputId": "45eeda0d-5a90-4fd3-d1ae-6f9a3ec47999"
   },
   "outputs": [
    {
     "data": {
      "text/html": [
       "<div>\n",
       "<style scoped>\n",
       "    .dataframe tbody tr th:only-of-type {\n",
       "        vertical-align: middle;\n",
       "    }\n",
       "\n",
       "    .dataframe tbody tr th {\n",
       "        vertical-align: top;\n",
       "    }\n",
       "\n",
       "    .dataframe thead th {\n",
       "        text-align: right;\n",
       "    }\n",
       "</style>\n",
       "<table border=\"1\" class=\"dataframe\">\n",
       "  <thead>\n",
       "    <tr style=\"text-align: right;\">\n",
       "      <th></th>\n",
       "      <th>file_name</th>\n",
       "      <th>vizwiz_url</th>\n",
       "      <th>id</th>\n",
       "      <th>text_detected</th>\n",
       "    </tr>\n",
       "  </thead>\n",
       "  <tbody>\n",
       "    <tr>\n",
       "      <th>0</th>\n",
       "      <td>VizWiz_train_00000000.jpg</td>\n",
       "      <td>https://ivc.ischool.utexas.edu/VizWiz_visualiz...</td>\n",
       "      <td>0</td>\n",
       "      <td>True</td>\n",
       "    </tr>\n",
       "    <tr>\n",
       "      <th>1</th>\n",
       "      <td>VizWiz_train_00000001.jpg</td>\n",
       "      <td>https://ivc.ischool.utexas.edu/VizWiz_visualiz...</td>\n",
       "      <td>1</td>\n",
       "      <td>True</td>\n",
       "    </tr>\n",
       "    <tr>\n",
       "      <th>2</th>\n",
       "      <td>VizWiz_train_00000002.jpg</td>\n",
       "      <td>https://ivc.ischool.utexas.edu/VizWiz_visualiz...</td>\n",
       "      <td>2</td>\n",
       "      <td>True</td>\n",
       "    </tr>\n",
       "    <tr>\n",
       "      <th>3</th>\n",
       "      <td>VizWiz_train_00000003.jpg</td>\n",
       "      <td>https://ivc.ischool.utexas.edu/VizWiz_visualiz...</td>\n",
       "      <td>3</td>\n",
       "      <td>True</td>\n",
       "    </tr>\n",
       "    <tr>\n",
       "      <th>4</th>\n",
       "      <td>VizWiz_train_00000004.jpg</td>\n",
       "      <td>https://ivc.ischool.utexas.edu/VizWiz_visualiz...</td>\n",
       "      <td>4</td>\n",
       "      <td>True</td>\n",
       "    </tr>\n",
       "    <tr>\n",
       "      <th>...</th>\n",
       "      <td>...</td>\n",
       "      <td>...</td>\n",
       "      <td>...</td>\n",
       "      <td>...</td>\n",
       "    </tr>\n",
       "    <tr>\n",
       "      <th>23426</th>\n",
       "      <td>VizWiz_train_00023426.jpg</td>\n",
       "      <td>https://ivc.ischool.utexas.edu/VizWiz_visualiz...</td>\n",
       "      <td>23426</td>\n",
       "      <td>True</td>\n",
       "    </tr>\n",
       "    <tr>\n",
       "      <th>23427</th>\n",
       "      <td>VizWiz_train_00023427.jpg</td>\n",
       "      <td>https://ivc.ischool.utexas.edu/VizWiz_visualiz...</td>\n",
       "      <td>23427</td>\n",
       "      <td>False</td>\n",
       "    </tr>\n",
       "    <tr>\n",
       "      <th>23428</th>\n",
       "      <td>VizWiz_train_00023428.jpg</td>\n",
       "      <td>https://ivc.ischool.utexas.edu/VizWiz_visualiz...</td>\n",
       "      <td>23428</td>\n",
       "      <td>True</td>\n",
       "    </tr>\n",
       "    <tr>\n",
       "      <th>23429</th>\n",
       "      <td>VizWiz_train_00023429.jpg</td>\n",
       "      <td>https://ivc.ischool.utexas.edu/VizWiz_visualiz...</td>\n",
       "      <td>23429</td>\n",
       "      <td>True</td>\n",
       "    </tr>\n",
       "    <tr>\n",
       "      <th>23430</th>\n",
       "      <td>VizWiz_train_00023430.jpg</td>\n",
       "      <td>https://ivc.ischool.utexas.edu/VizWiz_visualiz...</td>\n",
       "      <td>23430</td>\n",
       "      <td>True</td>\n",
       "    </tr>\n",
       "  </tbody>\n",
       "</table>\n",
       "<p>23431 rows × 4 columns</p>\n",
       "</div>"
      ],
      "text/plain": [
       "                       file_name  ... text_detected\n",
       "0      VizWiz_train_00000000.jpg  ...          True\n",
       "1      VizWiz_train_00000001.jpg  ...          True\n",
       "2      VizWiz_train_00000002.jpg  ...          True\n",
       "3      VizWiz_train_00000003.jpg  ...          True\n",
       "4      VizWiz_train_00000004.jpg  ...          True\n",
       "...                          ...  ...           ...\n",
       "23426  VizWiz_train_00023426.jpg  ...          True\n",
       "23427  VizWiz_train_00023427.jpg  ...         False\n",
       "23428  VizWiz_train_00023428.jpg  ...          True\n",
       "23429  VizWiz_train_00023429.jpg  ...          True\n",
       "23430  VizWiz_train_00023430.jpg  ...          True\n",
       "\n",
       "[23431 rows x 4 columns]"
      ]
     },
     "execution_count": 8,
     "metadata": {
      "tags": []
     },
     "output_type": "execute_result"
    }
   ],
   "source": [
    "df"
   ]
  },
  {
   "cell_type": "code",
   "execution_count": null,
   "metadata": {
    "colab": {
     "base_uri": "https://localhost:8080/",
     "height": 419
    },
    "id": "93vWe7vNT5YA",
    "outputId": "9fd47393-06a0-4fbb-9767-d5583c20729b"
   },
   "outputs": [
    {
     "data": {
      "text/html": [
       "<div>\n",
       "<style scoped>\n",
       "    .dataframe tbody tr th:only-of-type {\n",
       "        vertical-align: middle;\n",
       "    }\n",
       "\n",
       "    .dataframe tbody tr th {\n",
       "        vertical-align: top;\n",
       "    }\n",
       "\n",
       "    .dataframe thead th {\n",
       "        text-align: right;\n",
       "    }\n",
       "</style>\n",
       "<table border=\"1\" class=\"dataframe\">\n",
       "  <thead>\n",
       "    <tr style=\"text-align: right;\">\n",
       "      <th></th>\n",
       "      <th>caption</th>\n",
       "      <th>image_id</th>\n",
       "      <th>is_precanned</th>\n",
       "      <th>is_rejected</th>\n",
       "      <th>id</th>\n",
       "      <th>text_detected</th>\n",
       "    </tr>\n",
       "  </thead>\n",
       "  <tbody>\n",
       "    <tr>\n",
       "      <th>0</th>\n",
       "      <td>ITS IS A BASIL LEAVES CONTAINER ITS CONTAINS T...</td>\n",
       "      <td>0</td>\n",
       "      <td>False</td>\n",
       "      <td>False</td>\n",
       "      <td>0</td>\n",
       "      <td>True</td>\n",
       "    </tr>\n",
       "    <tr>\n",
       "      <th>1</th>\n",
       "      <td>A green and white plastic condiment bottle con...</td>\n",
       "      <td>0</td>\n",
       "      <td>False</td>\n",
       "      <td>False</td>\n",
       "      <td>1</td>\n",
       "      <td>True</td>\n",
       "    </tr>\n",
       "    <tr>\n",
       "      <th>2</th>\n",
       "      <td>Quality issues are too severe to recognize vis...</td>\n",
       "      <td>0</td>\n",
       "      <td>True</td>\n",
       "      <td>True</td>\n",
       "      <td>2</td>\n",
       "      <td>True</td>\n",
       "    </tr>\n",
       "    <tr>\n",
       "      <th>3</th>\n",
       "      <td>A bottle of spices in a plastic container layi...</td>\n",
       "      <td>0</td>\n",
       "      <td>False</td>\n",
       "      <td>False</td>\n",
       "      <td>3</td>\n",
       "      <td>True</td>\n",
       "    </tr>\n",
       "    <tr>\n",
       "      <th>4</th>\n",
       "      <td>some basil leaves in a container on a counter</td>\n",
       "      <td>0</td>\n",
       "      <td>False</td>\n",
       "      <td>False</td>\n",
       "      <td>4</td>\n",
       "      <td>True</td>\n",
       "    </tr>\n",
       "    <tr>\n",
       "      <th>...</th>\n",
       "      <td>...</td>\n",
       "      <td>...</td>\n",
       "      <td>...</td>\n",
       "      <td>...</td>\n",
       "      <td>...</td>\n",
       "      <td>...</td>\n",
       "    </tr>\n",
       "    <tr>\n",
       "      <th>117150</th>\n",
       "      <td>The back of a plastic card such as a credit ca...</td>\n",
       "      <td>23430</td>\n",
       "      <td>False</td>\n",
       "      <td>False</td>\n",
       "      <td>117150</td>\n",
       "      <td>True</td>\n",
       "    </tr>\n",
       "    <tr>\n",
       "      <th>117151</th>\n",
       "      <td>A card is seen with a scratch strip to reveal ...</td>\n",
       "      <td>23430</td>\n",
       "      <td>False</td>\n",
       "      <td>False</td>\n",
       "      <td>117151</td>\n",
       "      <td>True</td>\n",
       "    </tr>\n",
       "    <tr>\n",
       "      <th>117152</th>\n",
       "      <td>The back of a gift card without the silver str...</td>\n",
       "      <td>23430</td>\n",
       "      <td>False</td>\n",
       "      <td>False</td>\n",
       "      <td>117152</td>\n",
       "      <td>True</td>\n",
       "    </tr>\n",
       "    <tr>\n",
       "      <th>117153</th>\n",
       "      <td>The back of a plastic money or credit card wit...</td>\n",
       "      <td>23430</td>\n",
       "      <td>False</td>\n",
       "      <td>False</td>\n",
       "      <td>117153</td>\n",
       "      <td>True</td>\n",
       "    </tr>\n",
       "    <tr>\n",
       "      <th>117154</th>\n",
       "      <td>A gift card is on top of a table.</td>\n",
       "      <td>23430</td>\n",
       "      <td>False</td>\n",
       "      <td>False</td>\n",
       "      <td>117154</td>\n",
       "      <td>True</td>\n",
       "    </tr>\n",
       "  </tbody>\n",
       "</table>\n",
       "<p>117155 rows × 6 columns</p>\n",
       "</div>"
      ],
      "text/plain": [
       "                                                  caption  ...  text_detected\n",
       "0       ITS IS A BASIL LEAVES CONTAINER ITS CONTAINS T...  ...           True\n",
       "1       A green and white plastic condiment bottle con...  ...           True\n",
       "2       Quality issues are too severe to recognize vis...  ...           True\n",
       "3       A bottle of spices in a plastic container layi...  ...           True\n",
       "4           some basil leaves in a container on a counter  ...           True\n",
       "...                                                   ...  ...            ...\n",
       "117150  The back of a plastic card such as a credit ca...  ...           True\n",
       "117151  A card is seen with a scratch strip to reveal ...  ...           True\n",
       "117152  The back of a gift card without the silver str...  ...           True\n",
       "117153  The back of a plastic money or credit card wit...  ...           True\n",
       "117154                  A gift card is on top of a table.  ...           True\n",
       "\n",
       "[117155 rows x 6 columns]"
      ]
     },
     "execution_count": 9,
     "metadata": {
      "tags": []
     },
     "output_type": "execute_result"
    }
   ],
   "source": [
    "df_captions = pd.DataFrame(data_content['annotations'])\n",
    "df_captions"
   ]
  },
  {
   "cell_type": "code",
   "execution_count": null,
   "metadata": {
    "id": "yr7gQ2nfXuNj"
   },
   "outputs": [],
   "source": [
    "final_df = pd.merge(df, df_captions, left_on='id', right_on='image_id')"
   ]
  },
  {
   "cell_type": "code",
   "execution_count": null,
   "metadata": {
    "id": "QVawOlJrYHSr"
   },
   "outputs": [],
   "source": [
    "final_df['text_name'] = final_df['file_name'].apply(lambda x: x.split('.')[0])"
   ]
  },
  {
   "cell_type": "code",
   "execution_count": null,
   "metadata": {
    "colab": {
     "base_uri": "https://localhost:8080/",
     "height": 340
    },
    "id": "5nsFsYTyX6yb",
    "outputId": "9cd0240f-ca7a-46b6-d0f6-5eec3e171cbc"
   },
   "outputs": [
    {
     "data": {
      "text/html": [
       "<div>\n",
       "<style scoped>\n",
       "    .dataframe tbody tr th:only-of-type {\n",
       "        vertical-align: middle;\n",
       "    }\n",
       "\n",
       "    .dataframe tbody tr th {\n",
       "        vertical-align: top;\n",
       "    }\n",
       "\n",
       "    .dataframe thead th {\n",
       "        text-align: right;\n",
       "    }\n",
       "</style>\n",
       "<table border=\"1\" class=\"dataframe\">\n",
       "  <thead>\n",
       "    <tr style=\"text-align: right;\">\n",
       "      <th></th>\n",
       "      <th>file_name</th>\n",
       "      <th>vizwiz_url</th>\n",
       "      <th>id_x</th>\n",
       "      <th>text_detected_x</th>\n",
       "      <th>caption</th>\n",
       "      <th>image_id</th>\n",
       "      <th>is_precanned</th>\n",
       "      <th>is_rejected</th>\n",
       "      <th>id_y</th>\n",
       "      <th>text_detected_y</th>\n",
       "      <th>text_name</th>\n",
       "    </tr>\n",
       "  </thead>\n",
       "  <tbody>\n",
       "    <tr>\n",
       "      <th>0</th>\n",
       "      <td>VizWiz_train_00000000.jpg</td>\n",
       "      <td>https://ivc.ischool.utexas.edu/VizWiz_visualiz...</td>\n",
       "      <td>0</td>\n",
       "      <td>True</td>\n",
       "      <td>ITS IS A BASIL LEAVES CONTAINER ITS CONTAINS T...</td>\n",
       "      <td>0</td>\n",
       "      <td>False</td>\n",
       "      <td>False</td>\n",
       "      <td>0</td>\n",
       "      <td>True</td>\n",
       "      <td>VizWiz_train_00000000</td>\n",
       "    </tr>\n",
       "    <tr>\n",
       "      <th>1</th>\n",
       "      <td>VizWiz_train_00000000.jpg</td>\n",
       "      <td>https://ivc.ischool.utexas.edu/VizWiz_visualiz...</td>\n",
       "      <td>0</td>\n",
       "      <td>True</td>\n",
       "      <td>A green and white plastic condiment bottle con...</td>\n",
       "      <td>0</td>\n",
       "      <td>False</td>\n",
       "      <td>False</td>\n",
       "      <td>1</td>\n",
       "      <td>True</td>\n",
       "      <td>VizWiz_train_00000000</td>\n",
       "    </tr>\n",
       "    <tr>\n",
       "      <th>2</th>\n",
       "      <td>VizWiz_train_00000000.jpg</td>\n",
       "      <td>https://ivc.ischool.utexas.edu/VizWiz_visualiz...</td>\n",
       "      <td>0</td>\n",
       "      <td>True</td>\n",
       "      <td>Quality issues are too severe to recognize vis...</td>\n",
       "      <td>0</td>\n",
       "      <td>True</td>\n",
       "      <td>True</td>\n",
       "      <td>2</td>\n",
       "      <td>True</td>\n",
       "      <td>VizWiz_train_00000000</td>\n",
       "    </tr>\n",
       "    <tr>\n",
       "      <th>3</th>\n",
       "      <td>VizWiz_train_00000000.jpg</td>\n",
       "      <td>https://ivc.ischool.utexas.edu/VizWiz_visualiz...</td>\n",
       "      <td>0</td>\n",
       "      <td>True</td>\n",
       "      <td>A bottle of spices in a plastic container layi...</td>\n",
       "      <td>0</td>\n",
       "      <td>False</td>\n",
       "      <td>False</td>\n",
       "      <td>3</td>\n",
       "      <td>True</td>\n",
       "      <td>VizWiz_train_00000000</td>\n",
       "    </tr>\n",
       "    <tr>\n",
       "      <th>4</th>\n",
       "      <td>VizWiz_train_00000000.jpg</td>\n",
       "      <td>https://ivc.ischool.utexas.edu/VizWiz_visualiz...</td>\n",
       "      <td>0</td>\n",
       "      <td>True</td>\n",
       "      <td>some basil leaves in a container on a counter</td>\n",
       "      <td>0</td>\n",
       "      <td>False</td>\n",
       "      <td>False</td>\n",
       "      <td>4</td>\n",
       "      <td>True</td>\n",
       "      <td>VizWiz_train_00000000</td>\n",
       "    </tr>\n",
       "  </tbody>\n",
       "</table>\n",
       "</div>"
      ],
      "text/plain": [
       "                   file_name  ...              text_name\n",
       "0  VizWiz_train_00000000.jpg  ...  VizWiz_train_00000000\n",
       "1  VizWiz_train_00000000.jpg  ...  VizWiz_train_00000000\n",
       "2  VizWiz_train_00000000.jpg  ...  VizWiz_train_00000000\n",
       "3  VizWiz_train_00000000.jpg  ...  VizWiz_train_00000000\n",
       "4  VizWiz_train_00000000.jpg  ...  VizWiz_train_00000000\n",
       "\n",
       "[5 rows x 11 columns]"
      ]
     },
     "execution_count": 15,
     "metadata": {
      "tags": []
     },
     "output_type": "execute_result"
    }
   ],
   "source": [
    "final_df.head()"
   ]
  },
  {
   "cell_type": "code",
   "execution_count": null,
   "metadata": {
    "id": "635naI_KdKLw"
   },
   "outputs": [],
   "source": [
    "x = final_df.id_x.unique()\n",
    "x = x.tolist()"
   ]
  },
  {
   "cell_type": "code",
   "execution_count": null,
   "metadata": {
    "id": "2wzT4wWEdZ2o"
   },
   "outputs": [],
   "source": [
    "for i in x:\n",
    "  new_df = final_df[final_df['id_x'] == i]\n",
    "  file_name = new_df['text_name'].iloc[0]\n",
    "  writePath = '/content/gdrive/MyDrive/Open-Edit/datasets/vizwiz_manigan/text/' + file_name + '.txt'\n",
    "  new_df_list = list(new_df['caption'])\n",
    "  with open(writePath, 'a') as f:\n",
    "    f.write(\"\\n\".join(new_df_list))\n",
    "    #for item in new_df_list:`\n",
    "      #f.write(\"%s\\n\" % item)"
   ]
  },
  {
   "cell_type": "code",
   "execution_count": null,
   "metadata": {
    "id": "fX-jrQB2dRcj"
   },
   "outputs": [],
   "source": [
    "path, dirs, files = next(os.walk(\"/content/gdrive/MyDrive/Open-Edit/datasets/vizwiz_manigan/text/\"))\n",
    "file_count = len(files)"
   ]
  },
  {
   "cell_type": "code",
   "execution_count": null,
   "metadata": {
    "colab": {
     "base_uri": "https://localhost:8080/"
    },
    "id": "5cYWj_4Ikfa1",
    "outputId": "cbb4512b-84a2-4a54-ff9a-2e009cd2fcae"
   },
   "outputs": [
    {
     "data": {
      "text/plain": [
       "23431"
      ]
     },
     "execution_count": 69,
     "metadata": {
      "tags": []
     },
     "output_type": "execute_result"
    }
   ],
   "source": [
    "file_count"
   ]
  },
  {
   "cell_type": "code",
   "execution_count": null,
   "metadata": {
    "id": "kpWaO7M7FEDY"
   },
   "outputs": [],
   "source": [
    "f = open(\"/content/gdrive/MyDrive/Open-Edit/datasets/vizwiz_manigan/text/VizWiz_train_00023430.txt\", 'r')"
   ]
  },
  {
   "cell_type": "code",
   "execution_count": null,
   "metadata": {
    "colab": {
     "base_uri": "https://localhost:8080/"
    },
    "id": "xdT_NfvNFiGp",
    "outputId": "e0d4521c-466c-474a-8825-ce2bce1703a4"
   },
   "outputs": [
    {
     "name": "stdout",
     "output_type": "stream",
     "text": [
      "The back of a plastic card such as a credit card that has a lot of written instructions or information on it, and a scratch off area that says Scratch off Gently For Claim Code.\n",
      "A card is seen with a scratch strip to reveal a code.\n",
      "The back of a gift card without the silver stripe scratched off\n",
      "The back of a plastic money or credit card with a scratch off area for hidden information.\n",
      "A gift card is on top of a table.\n"
     ]
    }
   ],
   "source": [
    "print(f.read())"
   ]
  },
  {
   "cell_type": "markdown",
   "metadata": {
    "id": "z1rSTNaEm7xL"
   },
   "source": [
    "**Captions**"
   ]
  },
  {
   "cell_type": "code",
   "execution_count": null,
   "metadata": {
    "id": "mQyCjrsSmUPa"
   },
   "outputs": [],
   "source": [
    "object = pd.read_pickle(r'/content/gdrive/MyDrive/ManiGAN-master/data/coco/captions.pickle')"
   ]
  },
  {
   "cell_type": "code",
   "execution_count": null,
   "metadata": {
    "colab": {
     "base_uri": "https://localhost:8080/"
    },
    "id": "fES-keXynjo0",
    "outputId": "e78d75fb-e507-4159-dafb-a59c87c735d9"
   },
   "outputs": [
    {
     "data": {
      "text/plain": [
       "27297"
      ]
     },
     "execution_count": 8,
     "metadata": {
      "tags": []
     },
     "output_type": "execute_result"
    }
   ],
   "source": [
    "len(object[2])"
   ]
  },
  {
   "cell_type": "markdown",
   "metadata": {
    "id": "dGX3uWAkQxkK"
   },
   "source": [
    "**EDA**"
   ]
  },
  {
   "cell_type": "markdown",
   "metadata": {
    "id": "vHXYYk7_OLVU"
   },
   "source": [
    "For report talk about the images that were removed.\n",
    "\n",
    "*   'Quality issues are too severe to recognize visual content.'\n",
    "\n",
    "Look at number of images, show image sample in report and mention the data siz after removing it.\n",
    "\n"
   ]
  },
  {
   "cell_type": "code",
   "execution_count": null,
   "metadata": {
    "id": "fhyta42rRBTk"
   },
   "outputs": [],
   "source": [
    "new_path = \"/content/gdrive/MyDrive/Open-Edit/datasets/vizwiz_manigan/train/train.json\"\n",
    "with open(new_path) as data_file:\n",
    "  data = data_file.read()\n",
    "  data_content = json.loads(data)"
   ]
  },
  {
   "cell_type": "code",
   "execution_count": null,
   "metadata": {
    "id": "BtVipHIXRBpU"
   },
   "outputs": [],
   "source": [
    "poor_images_train = []\n",
    "for item in data_content['annotations']:\n",
    "  if item['caption'] == 'Quality issues are too severe to recognize visual content.':\n",
    "    poor_images_train.append(item)"
   ]
  },
  {
   "cell_type": "code",
   "execution_count": null,
   "metadata": {
    "colab": {
     "base_uri": "https://localhost:8080/"
    },
    "id": "oRf4iTQcTVEN",
    "outputId": "07024ffd-36de-4d06-8b0e-7bf7e1858b9b"
   },
   "outputs": [
    {
     "data": {
      "text/plain": [
       "15159"
      ]
     },
     "execution_count": 26,
     "metadata": {
      "tags": []
     },
     "output_type": "execute_result"
    }
   ],
   "source": [
    "len(poor_images_train)"
   ]
  },
  {
   "cell_type": "code",
   "execution_count": null,
   "metadata": {
    "colab": {
     "base_uri": "https://localhost:8080/",
     "height": 204
    },
    "id": "JHqF9HwaTgox",
    "outputId": "a2da1fdb-778d-4e49-b26c-6c8b69cdae54"
   },
   "outputs": [
    {
     "data": {
      "text/html": [
       "<div>\n",
       "<style scoped>\n",
       "    .dataframe tbody tr th:only-of-type {\n",
       "        vertical-align: middle;\n",
       "    }\n",
       "\n",
       "    .dataframe tbody tr th {\n",
       "        vertical-align: top;\n",
       "    }\n",
       "\n",
       "    .dataframe thead th {\n",
       "        text-align: right;\n",
       "    }\n",
       "</style>\n",
       "<table border=\"1\" class=\"dataframe\">\n",
       "  <thead>\n",
       "    <tr style=\"text-align: right;\">\n",
       "      <th></th>\n",
       "      <th>caption</th>\n",
       "      <th>image_id</th>\n",
       "      <th>is_precanned</th>\n",
       "      <th>is_rejected</th>\n",
       "      <th>id</th>\n",
       "      <th>text_detected</th>\n",
       "    </tr>\n",
       "  </thead>\n",
       "  <tbody>\n",
       "    <tr>\n",
       "      <th>0</th>\n",
       "      <td>Quality issues are too severe to recognize vis...</td>\n",
       "      <td>0</td>\n",
       "      <td>True</td>\n",
       "      <td>True</td>\n",
       "      <td>2</td>\n",
       "      <td>True</td>\n",
       "    </tr>\n",
       "    <tr>\n",
       "      <th>1</th>\n",
       "      <td>Quality issues are too severe to recognize vis...</td>\n",
       "      <td>5</td>\n",
       "      <td>True</td>\n",
       "      <td>False</td>\n",
       "      <td>28</td>\n",
       "      <td>False</td>\n",
       "    </tr>\n",
       "    <tr>\n",
       "      <th>2</th>\n",
       "      <td>Quality issues are too severe to recognize vis...</td>\n",
       "      <td>15</td>\n",
       "      <td>True</td>\n",
       "      <td>False</td>\n",
       "      <td>76</td>\n",
       "      <td>False</td>\n",
       "    </tr>\n",
       "    <tr>\n",
       "      <th>3</th>\n",
       "      <td>Quality issues are too severe to recognize vis...</td>\n",
       "      <td>15</td>\n",
       "      <td>True</td>\n",
       "      <td>True</td>\n",
       "      <td>78</td>\n",
       "      <td>False</td>\n",
       "    </tr>\n",
       "    <tr>\n",
       "      <th>4</th>\n",
       "      <td>Quality issues are too severe to recognize vis...</td>\n",
       "      <td>15</td>\n",
       "      <td>True</td>\n",
       "      <td>False</td>\n",
       "      <td>79</td>\n",
       "      <td>False</td>\n",
       "    </tr>\n",
       "  </tbody>\n",
       "</table>\n",
       "</div>"
      ],
      "text/plain": [
       "                                             caption  ...  text_detected\n",
       "0  Quality issues are too severe to recognize vis...  ...           True\n",
       "1  Quality issues are too severe to recognize vis...  ...          False\n",
       "2  Quality issues are too severe to recognize vis...  ...          False\n",
       "3  Quality issues are too severe to recognize vis...  ...          False\n",
       "4  Quality issues are too severe to recognize vis...  ...          False\n",
       "\n",
       "[5 rows x 6 columns]"
      ]
     },
     "execution_count": 27,
     "metadata": {
      "tags": []
     },
     "output_type": "execute_result"
    }
   ],
   "source": [
    "train_poor_Df = pd.DataFrame(poor_images_train)\n",
    "train_poor_Df.head()"
   ]
  },
  {
   "cell_type": "code",
   "execution_count": null,
   "metadata": {
    "colab": {
     "base_uri": "https://localhost:8080/"
    },
    "id": "mARsy_lUToI-",
    "outputId": "987a6912-4af5-45f4-c6d7-141dbc8a0892"
   },
   "outputs": [
    {
     "data": {
      "text/plain": [
       "7680"
      ]
     },
     "execution_count": 22,
     "metadata": {
      "tags": []
     },
     "output_type": "execute_result"
    }
   ],
   "source": [
    "train_poor_Df.image_id.nunique()"
   ]
  },
  {
   "cell_type": "code",
   "execution_count": null,
   "metadata": {
    "colab": {
     "base_uri": "https://localhost:8080/"
    },
    "id": "1RF4JFTlUI7c",
    "outputId": "a72264a8-9abb-41cc-a34d-40e98fb34a27"
   },
   "outputs": [
    {
     "name": "stdout",
     "output_type": "stream",
     "text": [
      "{'file_name': 'VizWiz_train_00006217.jpg', 'vizwiz_url': 'https://ivc.ischool.utexas.edu/VizWiz_visualization_img/VizWiz_train_00006217.jpg', 'id': 6217, 'text_detected': False}\n"
     ]
    }
   ],
   "source": [
    "for i in data_content['images']:\n",
    "  if i['id'] == 6217:\n",
    "    print(i)"
   ]
  },
  {
   "cell_type": "markdown",
   "metadata": {
    "id": "D_XdxYuobFEW"
   },
   "source": [
    "Groupby"
   ]
  },
  {
   "cell_type": "code",
   "execution_count": null,
   "metadata": {
    "id": "B8XteBaZbEjx"
   },
   "outputs": [],
   "source": [
    "occurances = train_poor_Df.groupby(['image_id']).size().reset_index()"
   ]
  },
  {
   "cell_type": "code",
   "execution_count": null,
   "metadata": {
    "id": "fQWHobMgbo7f"
   },
   "outputs": [],
   "source": [
    "occurances_df = pd.DataFrame(occurances)"
   ]
  },
  {
   "cell_type": "code",
   "execution_count": null,
   "metadata": {
    "id": "wxKTWOLyd8EB"
   },
   "outputs": [],
   "source": [
    "occurances_df = occurances_df.rename(columns={0: 'count'})"
   ]
  },
  {
   "cell_type": "code",
   "execution_count": null,
   "metadata": {
    "colab": {
     "base_uri": "https://localhost:8080/",
     "height": 419
    },
    "id": "pU8DP1fRcS1l",
    "outputId": "f75c2d0c-1ecc-419d-92af-465147081542"
   },
   "outputs": [
    {
     "data": {
      "text/html": [
       "<div>\n",
       "<style scoped>\n",
       "    .dataframe tbody tr th:only-of-type {\n",
       "        vertical-align: middle;\n",
       "    }\n",
       "\n",
       "    .dataframe tbody tr th {\n",
       "        vertical-align: top;\n",
       "    }\n",
       "\n",
       "    .dataframe thead th {\n",
       "        text-align: right;\n",
       "    }\n",
       "</style>\n",
       "<table border=\"1\" class=\"dataframe\">\n",
       "  <thead>\n",
       "    <tr style=\"text-align: right;\">\n",
       "      <th></th>\n",
       "      <th>image_id</th>\n",
       "      <th>count</th>\n",
       "    </tr>\n",
       "  </thead>\n",
       "  <tbody>\n",
       "    <tr>\n",
       "      <th>0</th>\n",
       "      <td>0</td>\n",
       "      <td>1</td>\n",
       "    </tr>\n",
       "    <tr>\n",
       "      <th>1</th>\n",
       "      <td>5</td>\n",
       "      <td>1</td>\n",
       "    </tr>\n",
       "    <tr>\n",
       "      <th>2</th>\n",
       "      <td>15</td>\n",
       "      <td>3</td>\n",
       "    </tr>\n",
       "    <tr>\n",
       "      <th>3</th>\n",
       "      <td>18</td>\n",
       "      <td>1</td>\n",
       "    </tr>\n",
       "    <tr>\n",
       "      <th>4</th>\n",
       "      <td>19</td>\n",
       "      <td>5</td>\n",
       "    </tr>\n",
       "    <tr>\n",
       "      <th>...</th>\n",
       "      <td>...</td>\n",
       "      <td>...</td>\n",
       "    </tr>\n",
       "    <tr>\n",
       "      <th>7675</th>\n",
       "      <td>23413</td>\n",
       "      <td>3</td>\n",
       "    </tr>\n",
       "    <tr>\n",
       "      <th>7676</th>\n",
       "      <td>23416</td>\n",
       "      <td>3</td>\n",
       "    </tr>\n",
       "    <tr>\n",
       "      <th>7677</th>\n",
       "      <td>23419</td>\n",
       "      <td>3</td>\n",
       "    </tr>\n",
       "    <tr>\n",
       "      <th>7678</th>\n",
       "      <td>23424</td>\n",
       "      <td>1</td>\n",
       "    </tr>\n",
       "    <tr>\n",
       "      <th>7679</th>\n",
       "      <td>23427</td>\n",
       "      <td>2</td>\n",
       "    </tr>\n",
       "  </tbody>\n",
       "</table>\n",
       "<p>7680 rows × 2 columns</p>\n",
       "</div>"
      ],
      "text/plain": [
       "      image_id  count\n",
       "0            0      1\n",
       "1            5      1\n",
       "2           15      3\n",
       "3           18      1\n",
       "4           19      5\n",
       "...        ...    ...\n",
       "7675     23413      3\n",
       "7676     23416      3\n",
       "7677     23419      3\n",
       "7678     23424      1\n",
       "7679     23427      2\n",
       "\n",
       "[7680 rows x 2 columns]"
      ]
     },
     "execution_count": 81,
     "metadata": {
      "tags": []
     },
     "output_type": "execute_result"
    }
   ],
   "source": [
    "occurances_df"
   ]
  },
  {
   "cell_type": "code",
   "execution_count": null,
   "metadata": {
    "colab": {
     "base_uri": "https://localhost:8080/",
     "height": 419
    },
    "id": "m2FTSgZkh5F4",
    "outputId": "0dbef6d7-b630-4e7b-9377-417feec86fc9"
   },
   "outputs": [
    {
     "data": {
      "text/html": [
       "<div>\n",
       "<style scoped>\n",
       "    .dataframe tbody tr th:only-of-type {\n",
       "        vertical-align: middle;\n",
       "    }\n",
       "\n",
       "    .dataframe tbody tr th {\n",
       "        vertical-align: top;\n",
       "    }\n",
       "\n",
       "    .dataframe thead th {\n",
       "        text-align: right;\n",
       "    }\n",
       "</style>\n",
       "<table border=\"1\" class=\"dataframe\">\n",
       "  <thead>\n",
       "    <tr style=\"text-align: right;\">\n",
       "      <th></th>\n",
       "      <th>image_id</th>\n",
       "      <th>count</th>\n",
       "    </tr>\n",
       "  </thead>\n",
       "  <tbody>\n",
       "    <tr>\n",
       "      <th>0</th>\n",
       "      <td>0</td>\n",
       "      <td>1</td>\n",
       "    </tr>\n",
       "    <tr>\n",
       "      <th>1</th>\n",
       "      <td>5</td>\n",
       "      <td>1</td>\n",
       "    </tr>\n",
       "    <tr>\n",
       "      <th>3</th>\n",
       "      <td>18</td>\n",
       "      <td>1</td>\n",
       "    </tr>\n",
       "    <tr>\n",
       "      <th>6</th>\n",
       "      <td>24</td>\n",
       "      <td>1</td>\n",
       "    </tr>\n",
       "    <tr>\n",
       "      <th>10</th>\n",
       "      <td>32</td>\n",
       "      <td>1</td>\n",
       "    </tr>\n",
       "    <tr>\n",
       "      <th>...</th>\n",
       "      <td>...</td>\n",
       "      <td>...</td>\n",
       "    </tr>\n",
       "    <tr>\n",
       "      <th>7665</th>\n",
       "      <td>23361</td>\n",
       "      <td>1</td>\n",
       "    </tr>\n",
       "    <tr>\n",
       "      <th>7669</th>\n",
       "      <td>23371</td>\n",
       "      <td>1</td>\n",
       "    </tr>\n",
       "    <tr>\n",
       "      <th>7672</th>\n",
       "      <td>23387</td>\n",
       "      <td>1</td>\n",
       "    </tr>\n",
       "    <tr>\n",
       "      <th>7674</th>\n",
       "      <td>23403</td>\n",
       "      <td>1</td>\n",
       "    </tr>\n",
       "    <tr>\n",
       "      <th>7678</th>\n",
       "      <td>23424</td>\n",
       "      <td>1</td>\n",
       "    </tr>\n",
       "  </tbody>\n",
       "</table>\n",
       "<p>4122 rows × 2 columns</p>\n",
       "</div>"
      ],
      "text/plain": [
       "      image_id  count\n",
       "0            0      1\n",
       "1            5      1\n",
       "3           18      1\n",
       "6           24      1\n",
       "10          32      1\n",
       "...        ...    ...\n",
       "7665     23361      1\n",
       "7669     23371      1\n",
       "7672     23387      1\n",
       "7674     23403      1\n",
       "7678     23424      1\n",
       "\n",
       "[4122 rows x 2 columns]"
      ]
     },
     "execution_count": 95,
     "metadata": {
      "tags": []
     },
     "output_type": "execute_result"
    }
   ],
   "source": [
    "occurances_df[occurances_df['count'] ==1]"
   ]
  },
  {
   "cell_type": "code",
   "execution_count": null,
   "metadata": {
    "id": "lV-Qb5raf4ob"
   },
   "outputs": [],
   "source": [
    "occurances_count = occurances_df.groupby(['count']).size().reset_index()"
   ]
  },
  {
   "cell_type": "code",
   "execution_count": null,
   "metadata": {
    "id": "iwOZaTzcgQO7"
   },
   "outputs": [],
   "source": [
    "occurances_count = occurances_count.rename(columns={0: 'NumberOfImages'})"
   ]
  },
  {
   "cell_type": "code",
   "execution_count": null,
   "metadata": {
    "colab": {
     "base_uri": "https://localhost:8080/",
     "height": 204
    },
    "id": "9MwNiQg0gML1",
    "outputId": "cf5d90e7-7979-413c-bf0f-d097b57163a1"
   },
   "outputs": [
    {
     "data": {
      "text/html": [
       "<div>\n",
       "<style scoped>\n",
       "    .dataframe tbody tr th:only-of-type {\n",
       "        vertical-align: middle;\n",
       "    }\n",
       "\n",
       "    .dataframe tbody tr th {\n",
       "        vertical-align: top;\n",
       "    }\n",
       "\n",
       "    .dataframe thead th {\n",
       "        text-align: right;\n",
       "    }\n",
       "</style>\n",
       "<table border=\"1\" class=\"dataframe\">\n",
       "  <thead>\n",
       "    <tr style=\"text-align: right;\">\n",
       "      <th></th>\n",
       "      <th>count</th>\n",
       "      <th>NumberOfImages</th>\n",
       "    </tr>\n",
       "  </thead>\n",
       "  <tbody>\n",
       "    <tr>\n",
       "      <th>0</th>\n",
       "      <td>1</td>\n",
       "      <td>4122</td>\n",
       "    </tr>\n",
       "    <tr>\n",
       "      <th>1</th>\n",
       "      <td>2</td>\n",
       "      <td>1424</td>\n",
       "    </tr>\n",
       "    <tr>\n",
       "      <th>2</th>\n",
       "      <td>3</td>\n",
       "      <td>878</td>\n",
       "    </tr>\n",
       "    <tr>\n",
       "      <th>3</th>\n",
       "      <td>4</td>\n",
       "      <td>725</td>\n",
       "    </tr>\n",
       "    <tr>\n",
       "      <th>4</th>\n",
       "      <td>5</td>\n",
       "      <td>531</td>\n",
       "    </tr>\n",
       "  </tbody>\n",
       "</table>\n",
       "</div>"
      ],
      "text/plain": [
       "   count  NumberOfImages\n",
       "0      1            4122\n",
       "1      2            1424\n",
       "2      3             878\n",
       "3      4             725\n",
       "4      5             531"
      ]
     },
     "execution_count": 86,
     "metadata": {
      "tags": []
     },
     "output_type": "execute_result"
    }
   ],
   "source": [
    "occurances_count"
   ]
  },
  {
   "cell_type": "code",
   "execution_count": null,
   "metadata": {
    "colab": {
     "base_uri": "https://localhost:8080/",
     "height": 248
    },
    "id": "v7U2F7F3kwqy",
    "outputId": "0ca8907b-2cbf-4cd0-b3bd-5758ad955ace"
   },
   "outputs": [
    {
     "data": {
      "image/png": "[encoded data removed]",
      "text/plain": [
       "<Figure size 432x288 with 1 Axes>"
      ]
     },
     "metadata": {
      "tags": []
     },
     "output_type": "display_data"
    }
   ],
   "source": [
    "labels = ['One Caption','Two Captions','Three Captions','Four Captions', 'Five Captions']\n",
    "values = [4122, 1424, 878, 725, 531]\n",
    "\n",
    "# Create a circle for the center of the plot\n",
    "my_circle=plt.Circle( (0,0), 0.7, color='white')\n",
    "\n",
    "plt.pie(values, labels=labels, colors=['red','green','blue','skyblue', 'yellow'])\n",
    "p=plt.gcf()\n",
    "p.gca().add_artist(my_circle)\n",
    "plt.show()\n"
   ]
  },
  {
   "cell_type": "code",
   "execution_count": null,
   "metadata": {
    "id": "C3Dv2ZUXqiGx"
   },
   "outputs": [],
   "source": [
    "new_path = \"/content/gdrive/MyDrive/Open-Edit/datasets/vizwiz_manigan/test/val.json\"\n",
    "with open(new_path) as data_file:\n",
    "  data = data_file.read()\n",
    "  data_content = json.loads(data)"
   ]
  },
  {
   "cell_type": "code",
   "execution_count": null,
   "metadata": {
    "id": "7l3O3UvBSFMi"
   },
   "outputs": [],
   "source": [
    "poor_images_train = []\n",
    "for item in data_content['annotations']:\n",
    "  if item['caption'] == 'Quality issues are too severe to recognize visual content.':\n",
    "    poor_images_train.append(item)"
   ]
  },
  {
   "cell_type": "code",
   "execution_count": null,
   "metadata": {
    "colab": {
     "base_uri": "https://localhost:8080/",
     "height": 204
    },
    "id": "JZ-v-xZmq0qk",
    "outputId": "f18a3c7c-b5b7-4401-8541-ec9951392248"
   },
   "outputs": [
    {
     "data": {
      "text/html": [
       "<div>\n",
       "<style scoped>\n",
       "    .dataframe tbody tr th:only-of-type {\n",
       "        vertical-align: middle;\n",
       "    }\n",
       "\n",
       "    .dataframe tbody tr th {\n",
       "        vertical-align: top;\n",
       "    }\n",
       "\n",
       "    .dataframe thead th {\n",
       "        text-align: right;\n",
       "    }\n",
       "</style>\n",
       "<table border=\"1\" class=\"dataframe\">\n",
       "  <thead>\n",
       "    <tr style=\"text-align: right;\">\n",
       "      <th></th>\n",
       "      <th>caption</th>\n",
       "      <th>image_id</th>\n",
       "      <th>is_precanned</th>\n",
       "      <th>is_rejected</th>\n",
       "      <th>id</th>\n",
       "      <th>text_detected</th>\n",
       "    </tr>\n",
       "  </thead>\n",
       "  <tbody>\n",
       "    <tr>\n",
       "      <th>0</th>\n",
       "      <td>Quality issues are too severe to recognize vis...</td>\n",
       "      <td>23437</td>\n",
       "      <td>True</td>\n",
       "      <td>False</td>\n",
       "      <td>117185</td>\n",
       "      <td>False</td>\n",
       "    </tr>\n",
       "    <tr>\n",
       "      <th>1</th>\n",
       "      <td>Quality issues are too severe to recognize vis...</td>\n",
       "      <td>23437</td>\n",
       "      <td>True</td>\n",
       "      <td>False</td>\n",
       "      <td>117186</td>\n",
       "      <td>False</td>\n",
       "    </tr>\n",
       "    <tr>\n",
       "      <th>2</th>\n",
       "      <td>Quality issues are too severe to recognize vis...</td>\n",
       "      <td>23437</td>\n",
       "      <td>True</td>\n",
       "      <td>False</td>\n",
       "      <td>117187</td>\n",
       "      <td>True</td>\n",
       "    </tr>\n",
       "    <tr>\n",
       "      <th>3</th>\n",
       "      <td>Quality issues are too severe to recognize vis...</td>\n",
       "      <td>23437</td>\n",
       "      <td>True</td>\n",
       "      <td>False</td>\n",
       "      <td>117188</td>\n",
       "      <td>True</td>\n",
       "    </tr>\n",
       "    <tr>\n",
       "      <th>4</th>\n",
       "      <td>Quality issues are too severe to recognize vis...</td>\n",
       "      <td>23437</td>\n",
       "      <td>True</td>\n",
       "      <td>False</td>\n",
       "      <td>117189</td>\n",
       "      <td>False</td>\n",
       "    </tr>\n",
       "  </tbody>\n",
       "</table>\n",
       "</div>"
      ],
      "text/plain": [
       "                                             caption  ...  text_detected\n",
       "0  Quality issues are too severe to recognize vis...  ...          False\n",
       "1  Quality issues are too severe to recognize vis...  ...          False\n",
       "2  Quality issues are too severe to recognize vis...  ...           True\n",
       "3  Quality issues are too severe to recognize vis...  ...           True\n",
       "4  Quality issues are too severe to recognize vis...  ...          False\n",
       "\n",
       "[5 rows x 6 columns]"
      ]
     },
     "execution_count": 128,
     "metadata": {
      "tags": []
     },
     "output_type": "execute_result"
    }
   ],
   "source": [
    "val_poor_Df = pd.DataFrame(poor_images_train)\n",
    "val_poor_Df.head()"
   ]
  },
  {
   "cell_type": "code",
   "execution_count": null,
   "metadata": {
    "colab": {
     "base_uri": "https://localhost:8080/"
    },
    "id": "4XXc0-88rROe",
    "outputId": "37fa1b23-aaf6-42d0-ccc4-a4176c808284"
   },
   "outputs": [
    {
     "data": {
      "text/plain": [
       "2528"
      ]
     },
     "execution_count": 130,
     "metadata": {
      "tags": []
     },
     "output_type": "execute_result"
    }
   ],
   "source": [
    "val_poor_Df.image_id.nunique()"
   ]
  },
  {
   "cell_type": "code",
   "execution_count": null,
   "metadata": {
    "id": "abHrmU4XrROe"
   },
   "outputs": [],
   "source": [
    "occurances = val_poor_Df.groupby(['image_id']).size().reset_index()"
   ]
  },
  {
   "cell_type": "code",
   "execution_count": null,
   "metadata": {
    "id": "0V2mo3ZXrROe"
   },
   "outputs": [],
   "source": [
    "occurances_df = pd.DataFrame(occurances)"
   ]
  },
  {
   "cell_type": "code",
   "execution_count": null,
   "metadata": {
    "id": "UXdzTPAIrROf"
   },
   "outputs": [],
   "source": [
    "occurances_df = occurances_df.rename(columns={0: 'count'})"
   ]
  },
  {
   "cell_type": "code",
   "execution_count": null,
   "metadata": {
    "colab": {
     "base_uri": "https://localhost:8080/",
     "height": 419
    },
    "id": "IaxImjV0rROf",
    "outputId": "291f32c9-bdb6-4717-9ee1-f18274dcc163"
   },
   "outputs": [
    {
     "data": {
      "text/html": [
       "<div>\n",
       "<style scoped>\n",
       "    .dataframe tbody tr th:only-of-type {\n",
       "        vertical-align: middle;\n",
       "    }\n",
       "\n",
       "    .dataframe tbody tr th {\n",
       "        vertical-align: top;\n",
       "    }\n",
       "\n",
       "    .dataframe thead th {\n",
       "        text-align: right;\n",
       "    }\n",
       "</style>\n",
       "<table border=\"1\" class=\"dataframe\">\n",
       "  <thead>\n",
       "    <tr style=\"text-align: right;\">\n",
       "      <th></th>\n",
       "      <th>image_id</th>\n",
       "      <th>count</th>\n",
       "    </tr>\n",
       "  </thead>\n",
       "  <tbody>\n",
       "    <tr>\n",
       "      <th>0</th>\n",
       "      <td>23437</td>\n",
       "      <td>5</td>\n",
       "    </tr>\n",
       "    <tr>\n",
       "      <th>1</th>\n",
       "      <td>23438</td>\n",
       "      <td>3</td>\n",
       "    </tr>\n",
       "    <tr>\n",
       "      <th>2</th>\n",
       "      <td>23439</td>\n",
       "      <td>3</td>\n",
       "    </tr>\n",
       "    <tr>\n",
       "      <th>3</th>\n",
       "      <td>23442</td>\n",
       "      <td>1</td>\n",
       "    </tr>\n",
       "    <tr>\n",
       "      <th>4</th>\n",
       "      <td>23444</td>\n",
       "      <td>4</td>\n",
       "    </tr>\n",
       "    <tr>\n",
       "      <th>...</th>\n",
       "      <td>...</td>\n",
       "      <td>...</td>\n",
       "    </tr>\n",
       "    <tr>\n",
       "      <th>2523</th>\n",
       "      <td>31154</td>\n",
       "      <td>1</td>\n",
       "    </tr>\n",
       "    <tr>\n",
       "      <th>2524</th>\n",
       "      <td>31157</td>\n",
       "      <td>2</td>\n",
       "    </tr>\n",
       "    <tr>\n",
       "      <th>2525</th>\n",
       "      <td>31162</td>\n",
       "      <td>1</td>\n",
       "    </tr>\n",
       "    <tr>\n",
       "      <th>2526</th>\n",
       "      <td>31163</td>\n",
       "      <td>1</td>\n",
       "    </tr>\n",
       "    <tr>\n",
       "      <th>2527</th>\n",
       "      <td>31172</td>\n",
       "      <td>1</td>\n",
       "    </tr>\n",
       "  </tbody>\n",
       "</table>\n",
       "<p>2528 rows × 2 columns</p>\n",
       "</div>"
      ],
      "text/plain": [
       "      image_id  count\n",
       "0        23437      5\n",
       "1        23438      3\n",
       "2        23439      3\n",
       "3        23442      1\n",
       "4        23444      4\n",
       "...        ...    ...\n",
       "2523     31154      1\n",
       "2524     31157      2\n",
       "2525     31162      1\n",
       "2526     31163      1\n",
       "2527     31172      1\n",
       "\n",
       "[2528 rows x 2 columns]"
      ]
     },
     "execution_count": 134,
     "metadata": {
      "tags": []
     },
     "output_type": "execute_result"
    }
   ],
   "source": [
    "occurances_df"
   ]
  },
  {
   "cell_type": "code",
   "execution_count": null,
   "metadata": {
    "colab": {
     "base_uri": "https://localhost:8080/",
     "height": 419
    },
    "id": "VK_GRAldrROf",
    "outputId": "ce8ebd83-4850-44f7-8189-ff8229b81cb8"
   },
   "outputs": [
    {
     "data": {
      "text/html": [
       "<div>\n",
       "<style scoped>\n",
       "    .dataframe tbody tr th:only-of-type {\n",
       "        vertical-align: middle;\n",
       "    }\n",
       "\n",
       "    .dataframe tbody tr th {\n",
       "        vertical-align: top;\n",
       "    }\n",
       "\n",
       "    .dataframe thead th {\n",
       "        text-align: right;\n",
       "    }\n",
       "</style>\n",
       "<table border=\"1\" class=\"dataframe\">\n",
       "  <thead>\n",
       "    <tr style=\"text-align: right;\">\n",
       "      <th></th>\n",
       "      <th>image_id</th>\n",
       "      <th>count</th>\n",
       "    </tr>\n",
       "  </thead>\n",
       "  <tbody>\n",
       "    <tr>\n",
       "      <th>3</th>\n",
       "      <td>23442</td>\n",
       "      <td>1</td>\n",
       "    </tr>\n",
       "    <tr>\n",
       "      <th>6</th>\n",
       "      <td>23446</td>\n",
       "      <td>1</td>\n",
       "    </tr>\n",
       "    <tr>\n",
       "      <th>7</th>\n",
       "      <td>23447</td>\n",
       "      <td>1</td>\n",
       "    </tr>\n",
       "    <tr>\n",
       "      <th>8</th>\n",
       "      <td>23453</td>\n",
       "      <td>1</td>\n",
       "    </tr>\n",
       "    <tr>\n",
       "      <th>10</th>\n",
       "      <td>23460</td>\n",
       "      <td>1</td>\n",
       "    </tr>\n",
       "    <tr>\n",
       "      <th>...</th>\n",
       "      <td>...</td>\n",
       "      <td>...</td>\n",
       "    </tr>\n",
       "    <tr>\n",
       "      <th>2522</th>\n",
       "      <td>31146</td>\n",
       "      <td>1</td>\n",
       "    </tr>\n",
       "    <tr>\n",
       "      <th>2523</th>\n",
       "      <td>31154</td>\n",
       "      <td>1</td>\n",
       "    </tr>\n",
       "    <tr>\n",
       "      <th>2525</th>\n",
       "      <td>31162</td>\n",
       "      <td>1</td>\n",
       "    </tr>\n",
       "    <tr>\n",
       "      <th>2526</th>\n",
       "      <td>31163</td>\n",
       "      <td>1</td>\n",
       "    </tr>\n",
       "    <tr>\n",
       "      <th>2527</th>\n",
       "      <td>31172</td>\n",
       "      <td>1</td>\n",
       "    </tr>\n",
       "  </tbody>\n",
       "</table>\n",
       "<p>1297 rows × 2 columns</p>\n",
       "</div>"
      ],
      "text/plain": [
       "      image_id  count\n",
       "3        23442      1\n",
       "6        23446      1\n",
       "7        23447      1\n",
       "8        23453      1\n",
       "10       23460      1\n",
       "...        ...    ...\n",
       "2522     31146      1\n",
       "2523     31154      1\n",
       "2525     31162      1\n",
       "2526     31163      1\n",
       "2527     31172      1\n",
       "\n",
       "[1297 rows x 2 columns]"
      ]
     },
     "execution_count": 135,
     "metadata": {
      "tags": []
     },
     "output_type": "execute_result"
    }
   ],
   "source": [
    "occurances_df[occurances_df['count'] ==1]"
   ]
  },
  {
   "cell_type": "code",
   "execution_count": null,
   "metadata": {
    "id": "d85C6omirROf"
   },
   "outputs": [],
   "source": [
    "occurances_count = occurances_df.groupby(['count']).size().reset_index()"
   ]
  },
  {
   "cell_type": "code",
   "execution_count": null,
   "metadata": {
    "id": "D6FA0g_7rROf"
   },
   "outputs": [],
   "source": [
    "occurances_count = occurances_count.rename(columns={0: 'NumberOfImages'})"
   ]
  },
  {
   "cell_type": "code",
   "execution_count": null,
   "metadata": {
    "colab": {
     "base_uri": "https://localhost:8080/",
     "height": 204
    },
    "id": "7xCJe5torROf",
    "outputId": "9e9658d2-4821-4179-a422-c5ac8a41c8fb"
   },
   "outputs": [
    {
     "data": {
      "text/html": [
       "<div>\n",
       "<style scoped>\n",
       "    .dataframe tbody tr th:only-of-type {\n",
       "        vertical-align: middle;\n",
       "    }\n",
       "\n",
       "    .dataframe tbody tr th {\n",
       "        vertical-align: top;\n",
       "    }\n",
       "\n",
       "    .dataframe thead th {\n",
       "        text-align: right;\n",
       "    }\n",
       "</style>\n",
       "<table border=\"1\" class=\"dataframe\">\n",
       "  <thead>\n",
       "    <tr style=\"text-align: right;\">\n",
       "      <th></th>\n",
       "      <th>count</th>\n",
       "      <th>NumberOfImages</th>\n",
       "    </tr>\n",
       "  </thead>\n",
       "  <tbody>\n",
       "    <tr>\n",
       "      <th>0</th>\n",
       "      <td>1</td>\n",
       "      <td>1297</td>\n",
       "    </tr>\n",
       "    <tr>\n",
       "      <th>1</th>\n",
       "      <td>2</td>\n",
       "      <td>480</td>\n",
       "    </tr>\n",
       "    <tr>\n",
       "      <th>2</th>\n",
       "      <td>3</td>\n",
       "      <td>286</td>\n",
       "    </tr>\n",
       "    <tr>\n",
       "      <th>3</th>\n",
       "      <td>4</td>\n",
       "      <td>273</td>\n",
       "    </tr>\n",
       "    <tr>\n",
       "      <th>4</th>\n",
       "      <td>5</td>\n",
       "      <td>192</td>\n",
       "    </tr>\n",
       "  </tbody>\n",
       "</table>\n",
       "</div>"
      ],
      "text/plain": [
       "   count  NumberOfImages\n",
       "0      1            1297\n",
       "1      2             480\n",
       "2      3             286\n",
       "3      4             273\n",
       "4      5             192"
      ]
     },
     "execution_count": 138,
     "metadata": {
      "tags": []
     },
     "output_type": "execute_result"
    }
   ],
   "source": [
    "occurances_count"
   ]
  },
  {
   "cell_type": "code",
   "execution_count": null,
   "metadata": {
    "colab": {
     "base_uri": "https://localhost:8080/",
     "height": 542
    },
    "id": "hiDGWZ04rrAS",
    "outputId": "c84281f5-2687-4f9c-cd61-90786a9e86df"
   },
   "outputs": [
    {
     "data": {
      "text/html": [
       "<html>\n",
       "<head><meta charset=\"utf-8\" /></head>\n",
       "<body>\n",
       "    <div>\n",
       "            <script src=\"https://cdnjs.cloudflare.com/ajax/libs/mathjax/2.7.5/MathJax.js?config=TeX-AMS-MML_SVG\"></script><script type=\"text/javascript\">if (window.MathJax) {MathJax.Hub.Config({SVG: {font: \"STIX-Web\"}});}</script>\n",
       "                <script type=\"text/javascript\">window.PlotlyConfig = {MathJaxConfig: 'local'};</script>\n",
       "        <script src=\"https://cdn.plot.ly/plotly-latest.min.js\"></script>    \n",
       "            <div id=\"b62fed6e-334d-435b-afa7-c2518052c3d0\" class=\"plotly-graph-div\" style=\"height:525px; width:100%;\"></div>\n",
       "            <script type=\"text/javascript\">\n",
       "                \n",
       "                    window.PLOTLYENV=window.PLOTLYENV || {};\n",
       "                    \n",
       "                if (document.getElementById(\"b62fed6e-334d-435b-afa7-c2518052c3d0\")) {\n",
       "                    Plotly.newPlot(\n",
       "                        'b62fed6e-334d-435b-afa7-c2518052c3d0',\n",
       "                        [{\"domain\": {\"x\": [0.0, 0.45], \"y\": [0.0, 1.0]}, \"hole\": 0.5, \"labels\": [\"One Caption\", \"Two Captions\", \"Three Captions\", \"Four Captions\", \"Five Captions\"], \"marker\": {\"colors\": [\"rgb(0,255,255)\", \"rgb(100,200,255)\", \"rgb(0,0,205)\", \"rgb(0,0,139)\", \"rgb(0,35,102)\"]}, \"name\": \"Train\", \"type\": \"pie\", \"values\": [4122, 1424, 878, 725, 531]}, {\"domain\": {\"x\": [0.55, 1.0], \"y\": [0.0, 1.0]}, \"hole\": 0.5, \"labels\": [\"One Caption\", \"Two Captions\", \"Three Captions\", \"Four Captions\", \"Five Captions\"], \"marker\": {\"colors\": [\"rgb(0,255,255)\", \"rgb(100,200,255)\", \"rgb(0,0,205)\", \"rgb(0,0,139)\", \"rgb(0,35,102)\"]}, \"name\": \"Validation\", \"type\": \"pie\", \"values\": [1297, 480, 286, 273, 192]}],\n",
       "                        {\"annotations\": [{\"font\": {\"size\": 20}, \"showarrow\": false, \"text\": \"Train\", \"x\": 0.18, \"y\": 0.5}, {\"font\": {\"size\": 20}, \"showarrow\": false, \"text\": \"Val\", \"x\": 0.82, \"y\": 0.5}], \"template\": {\"data\": {\"bar\": [{\"error_x\": {\"color\": \"#2a3f5f\"}, \"error_y\": {\"color\": \"#2a3f5f\"}, \"marker\": {\"line\": {\"color\": \"#E5ECF6\", \"width\": 0.5}}, \"type\": \"bar\"}], \"barpolar\": [{\"marker\": {\"line\": {\"color\": \"#E5ECF6\", \"width\": 0.5}}, \"type\": \"barpolar\"}], \"carpet\": [{\"aaxis\": {\"endlinecolor\": \"#2a3f5f\", \"gridcolor\": \"white\", \"linecolor\": \"white\", \"minorgridcolor\": \"white\", \"startlinecolor\": \"#2a3f5f\"}, \"baxis\": {\"endlinecolor\": \"#2a3f5f\", \"gridcolor\": \"white\", \"linecolor\": \"white\", \"minorgridcolor\": \"white\", \"startlinecolor\": \"#2a3f5f\"}, \"type\": \"carpet\"}], \"choropleth\": [{\"colorbar\": {\"outlinewidth\": 0, \"ticks\": \"\"}, \"type\": \"choropleth\"}], \"contour\": [{\"colorbar\": {\"outlinewidth\": 0, \"ticks\": \"\"}, \"colorscale\": [[0.0, \"#0d0887\"], [0.1111111111111111, \"#46039f\"], [0.2222222222222222, \"#7201a8\"], [0.3333333333333333, \"#9c179e\"], [0.4444444444444444, \"#bd3786\"], [0.5555555555555556, \"#d8576b\"], [0.6666666666666666, \"#ed7953\"], [0.7777777777777778, \"#fb9f3a\"], [0.8888888888888888, \"#fdca26\"], [1.0, \"#f0f921\"]], \"type\": \"contour\"}], \"contourcarpet\": [{\"colorbar\": {\"outlinewidth\": 0, \"ticks\": \"\"}, \"type\": \"contourcarpet\"}], \"heatmap\": [{\"colorbar\": {\"outlinewidth\": 0, \"ticks\": \"\"}, \"colorscale\": [[0.0, \"#0d0887\"], [0.1111111111111111, \"#46039f\"], [0.2222222222222222, \"#7201a8\"], [0.3333333333333333, \"#9c179e\"], [0.4444444444444444, \"#bd3786\"], [0.5555555555555556, \"#d8576b\"], [0.6666666666666666, \"#ed7953\"], [0.7777777777777778, \"#fb9f3a\"], [0.8888888888888888, \"#fdca26\"], [1.0, \"#f0f921\"]], \"type\": \"heatmap\"}], \"heatmapgl\": [{\"colorbar\": {\"outlinewidth\": 0, \"ticks\": \"\"}, \"colorscale\": [[0.0, \"#0d0887\"], [0.1111111111111111, \"#46039f\"], [0.2222222222222222, \"#7201a8\"], [0.3333333333333333, \"#9c179e\"], [0.4444444444444444, \"#bd3786\"], [0.5555555555555556, \"#d8576b\"], [0.6666666666666666, \"#ed7953\"], [0.7777777777777778, \"#fb9f3a\"], [0.8888888888888888, \"#fdca26\"], [1.0, \"#f0f921\"]], \"type\": \"heatmapgl\"}], \"histogram\": [{\"marker\": {\"colorbar\": {\"outlinewidth\": 0, \"ticks\": \"\"}}, \"type\": \"histogram\"}], \"histogram2d\": [{\"colorbar\": {\"outlinewidth\": 0, \"ticks\": \"\"}, \"colorscale\": [[0.0, \"#0d0887\"], [0.1111111111111111, \"#46039f\"], [0.2222222222222222, \"#7201a8\"], [0.3333333333333333, \"#9c179e\"], [0.4444444444444444, \"#bd3786\"], [0.5555555555555556, \"#d8576b\"], [0.6666666666666666, \"#ed7953\"], [0.7777777777777778, \"#fb9f3a\"], [0.8888888888888888, \"#fdca26\"], [1.0, \"#f0f921\"]], \"type\": \"histogram2d\"}], \"histogram2dcontour\": [{\"colorbar\": {\"outlinewidth\": 0, \"ticks\": \"\"}, \"colorscale\": [[0.0, \"#0d0887\"], [0.1111111111111111, \"#46039f\"], [0.2222222222222222, \"#7201a8\"], [0.3333333333333333, \"#9c179e\"], [0.4444444444444444, \"#bd3786\"], [0.5555555555555556, \"#d8576b\"], [0.6666666666666666, \"#ed7953\"], [0.7777777777777778, \"#fb9f3a\"], [0.8888888888888888, \"#fdca26\"], [1.0, \"#f0f921\"]], \"type\": \"histogram2dcontour\"}], \"mesh3d\": [{\"colorbar\": {\"outlinewidth\": 0, \"ticks\": \"\"}, \"type\": \"mesh3d\"}], \"parcoords\": [{\"line\": {\"colorbar\": {\"outlinewidth\": 0, \"ticks\": \"\"}}, \"type\": \"parcoords\"}], \"pie\": [{\"automargin\": true, \"type\": \"pie\"}], \"scatter\": [{\"marker\": {\"colorbar\": {\"outlinewidth\": 0, \"ticks\": \"\"}}, \"type\": \"scatter\"}], \"scatter3d\": [{\"line\": {\"colorbar\": {\"outlinewidth\": 0, \"ticks\": \"\"}}, \"marker\": {\"colorbar\": {\"outlinewidth\": 0, \"ticks\": \"\"}}, \"type\": \"scatter3d\"}], \"scattercarpet\": [{\"marker\": {\"colorbar\": {\"outlinewidth\": 0, \"ticks\": \"\"}}, \"type\": \"scattercarpet\"}], \"scattergeo\": [{\"marker\": {\"colorbar\": {\"outlinewidth\": 0, \"ticks\": \"\"}}, \"type\": \"scattergeo\"}], \"scattergl\": [{\"marker\": {\"colorbar\": {\"outlinewidth\": 0, \"ticks\": \"\"}}, \"type\": \"scattergl\"}], \"scattermapbox\": [{\"marker\": {\"colorbar\": {\"outlinewidth\": 0, \"ticks\": \"\"}}, \"type\": \"scattermapbox\"}], \"scatterpolar\": [{\"marker\": {\"colorbar\": {\"outlinewidth\": 0, \"ticks\": \"\"}}, \"type\": \"scatterpolar\"}], \"scatterpolargl\": [{\"marker\": {\"colorbar\": {\"outlinewidth\": 0, \"ticks\": \"\"}}, \"type\": \"scatterpolargl\"}], \"scatterternary\": [{\"marker\": {\"colorbar\": {\"outlinewidth\": 0, \"ticks\": \"\"}}, \"type\": \"scatterternary\"}], \"surface\": [{\"colorbar\": {\"outlinewidth\": 0, \"ticks\": \"\"}, \"colorscale\": [[0.0, \"#0d0887\"], [0.1111111111111111, \"#46039f\"], [0.2222222222222222, \"#7201a8\"], [0.3333333333333333, \"#9c179e\"], [0.4444444444444444, \"#bd3786\"], [0.5555555555555556, \"#d8576b\"], [0.6666666666666666, \"#ed7953\"], [0.7777777777777778, \"#fb9f3a\"], [0.8888888888888888, \"#fdca26\"], [1.0, \"#f0f921\"]], \"type\": \"surface\"}], \"table\": [{\"cells\": {\"fill\": {\"color\": \"#EBF0F8\"}, \"line\": {\"color\": \"white\"}}, \"header\": {\"fill\": {\"color\": \"#C8D4E3\"}, \"line\": {\"color\": \"white\"}}, \"type\": \"table\"}]}, \"layout\": {\"annotationdefaults\": {\"arrowcolor\": \"#2a3f5f\", \"arrowhead\": 0, \"arrowwidth\": 1}, \"coloraxis\": {\"colorbar\": {\"outlinewidth\": 0, \"ticks\": \"\"}}, \"colorscale\": {\"diverging\": [[0, \"#8e0152\"], [0.1, \"#c51b7d\"], [0.2, \"#de77ae\"], [0.3, \"#f1b6da\"], [0.4, \"#fde0ef\"], [0.5, \"#f7f7f7\"], [0.6, \"#e6f5d0\"], [0.7, \"#b8e186\"], [0.8, \"#7fbc41\"], [0.9, \"#4d9221\"], [1, \"#276419\"]], \"sequential\": [[0.0, \"#0d0887\"], [0.1111111111111111, \"#46039f\"], [0.2222222222222222, \"#7201a8\"], [0.3333333333333333, \"#9c179e\"], [0.4444444444444444, \"#bd3786\"], [0.5555555555555556, \"#d8576b\"], [0.6666666666666666, \"#ed7953\"], [0.7777777777777778, \"#fb9f3a\"], [0.8888888888888888, \"#fdca26\"], [1.0, \"#f0f921\"]], \"sequentialminus\": [[0.0, \"#0d0887\"], [0.1111111111111111, \"#46039f\"], [0.2222222222222222, \"#7201a8\"], [0.3333333333333333, \"#9c179e\"], [0.4444444444444444, \"#bd3786\"], [0.5555555555555556, \"#d8576b\"], [0.6666666666666666, \"#ed7953\"], [0.7777777777777778, \"#fb9f3a\"], [0.8888888888888888, \"#fdca26\"], [1.0, \"#f0f921\"]]}, \"colorway\": [\"#636efa\", \"#EF553B\", \"#00cc96\", \"#ab63fa\", \"#FFA15A\", \"#19d3f3\", \"#FF6692\", \"#B6E880\", \"#FF97FF\", \"#FECB52\"], \"font\": {\"color\": \"#2a3f5f\"}, \"geo\": {\"bgcolor\": \"white\", \"lakecolor\": \"white\", \"landcolor\": \"#E5ECF6\", \"showlakes\": true, \"showland\": true, \"subunitcolor\": \"white\"}, \"hoverlabel\": {\"align\": \"left\"}, \"hovermode\": \"closest\", \"mapbox\": {\"style\": \"light\"}, \"paper_bgcolor\": \"white\", \"plot_bgcolor\": \"#E5ECF6\", \"polar\": {\"angularaxis\": {\"gridcolor\": \"white\", \"linecolor\": \"white\", \"ticks\": \"\"}, \"bgcolor\": \"#E5ECF6\", \"radialaxis\": {\"gridcolor\": \"white\", \"linecolor\": \"white\", \"ticks\": \"\"}}, \"scene\": {\"xaxis\": {\"backgroundcolor\": \"#E5ECF6\", \"gridcolor\": \"white\", \"gridwidth\": 2, \"linecolor\": \"white\", \"showbackground\": true, \"ticks\": \"\", \"zerolinecolor\": \"white\"}, \"yaxis\": {\"backgroundcolor\": \"#E5ECF6\", \"gridcolor\": \"white\", \"gridwidth\": 2, \"linecolor\": \"white\", \"showbackground\": true, \"ticks\": \"\", \"zerolinecolor\": \"white\"}, \"zaxis\": {\"backgroundcolor\": \"#E5ECF6\", \"gridcolor\": \"white\", \"gridwidth\": 2, \"linecolor\": \"white\", \"showbackground\": true, \"ticks\": \"\", \"zerolinecolor\": \"white\"}}, \"shapedefaults\": {\"line\": {\"color\": \"#2a3f5f\"}}, \"ternary\": {\"aaxis\": {\"gridcolor\": \"white\", \"linecolor\": \"white\", \"ticks\": \"\"}, \"baxis\": {\"gridcolor\": \"white\", \"linecolor\": \"white\", \"ticks\": \"\"}, \"bgcolor\": \"#E5ECF6\", \"caxis\": {\"gridcolor\": \"white\", \"linecolor\": \"white\", \"ticks\": \"\"}}, \"title\": {\"x\": 0.05}, \"xaxis\": {\"automargin\": true, \"gridcolor\": \"white\", \"linecolor\": \"white\", \"ticks\": \"\", \"title\": {\"standoff\": 15}, \"zerolinecolor\": \"white\", \"zerolinewidth\": 2}, \"yaxis\": {\"automargin\": true, \"gridcolor\": \"white\", \"linecolor\": \"white\", \"ticks\": \"\", \"title\": {\"standoff\": 15}, \"zerolinecolor\": \"white\", \"zerolinewidth\": 2}}}, \"title\": {\"text\": \"Quality issue: No of caption instance\"}},\n",
       "                        {\"responsive\": true}\n",
       "                    ).then(function(){\n",
       "                            \n",
       "var gd = document.getElementById('b62fed6e-334d-435b-afa7-c2518052c3d0');\n",
       "var x = new MutationObserver(function (mutations, observer) {{\n",
       "        var display = window.getComputedStyle(gd).display;\n",
       "        if (!display || display === 'none') {{\n",
       "            console.log([gd, 'removed!']);\n",
       "            Plotly.purge(gd);\n",
       "            observer.disconnect();\n",
       "        }}\n",
       "}});\n",
       "\n",
       "// Listen for the removal of the full notebook cells\n",
       "var notebookContainer = gd.closest('#notebook-container');\n",
       "if (notebookContainer) {{\n",
       "    x.observe(notebookContainer, {childList: true});\n",
       "}}\n",
       "\n",
       "// Listen for the clearing of the current output cell\n",
       "var outputEl = gd.closest('.output');\n",
       "if (outputEl) {{\n",
       "    x.observe(outputEl, {childList: true});\n",
       "}}\n",
       "\n",
       "                        })\n",
       "                };\n",
       "                \n",
       "            </script>\n",
       "        </div>\n",
       "</body>\n",
       "</html>"
      ]
     },
     "metadata": {
      "tags": []
     },
     "output_type": "display_data"
    }
   ],
   "source": [
    "import plotly.graph_objects as go\n",
    "from plotly.subplots import make_subplots\n",
    "\n",
    "cafe_colors =  ['rgb(0,255,255)', 'rgb(100,200,255)', 'rgb(0,0,205)', 'rgb(0,0,139)', 'rgb(0,35,102)']\n",
    "\n",
    "labels = ['One Caption','Two Captions','Three Captions','Four Captions', 'Five Captions']\n",
    "\n",
    "# Create subplots: use 'domain' type for Pie subplot\n",
    "fig = make_subplots(rows=1, cols=2, specs=[[{'type':'domain'}, {'type':'domain'}]])\n",
    "fig.add_trace(go.Pie(labels=labels, values=[4122, 1424, 878, 725, 531], name=\"Train\"),\n",
    "              1, 1)\n",
    "fig.add_trace(go.Pie(labels=labels, values=[1297, 480, 286, 273, 192], name=\"Validation\"),\n",
    "              1, 2)\n",
    "\n",
    "# Use `hole` to create a donut-like pie chart\n",
    "fig.update_traces(hole=.5, marker_colors=cafe_colors)\n",
    "\n",
    "fig.update_layout(\n",
    "    title_text=\"Quality issue: No of caption instance\",\n",
    "    # Add annotations in the center of the donut pies.\n",
    "    annotations=[dict(text='Train', x=0.18, y=0.5, font_size=20, showarrow=False),\n",
    "                 dict(text='Val', x=0.82, y=0.5, font_size=20, showarrow=False)])\n",
    "fig.show()"
   ]
  },
  {
   "cell_type": "code",
   "execution_count": null,
   "metadata": {
    "id": "Ybs_OLKxrd9C"
   },
   "outputs": [],
   "source": []
  },
  {
   "cell_type": "code",
   "execution_count": null,
   "metadata": {
    "id": "duTonML4ZeRo"
   },
   "outputs": [],
   "source": []
  },
  {
   "cell_type": "markdown",
   "metadata": {
    "id": "y3_cZmk1ZeiJ"
   },
   "source": [
    "**Text in Images**"
   ]
  },
  {
   "cell_type": "code",
   "execution_count": null,
   "metadata": {
    "id": "ErpY6Nu_ZgeU"
   },
   "outputs": [],
   "source": [
    "new_path = \"/content/gdrive/MyDrive/Open-Edit/datasets/vizwiz_manigan/train/train.json\"\n",
    "with open(new_path) as data_file:\n",
    "  data = data_file.read()\n",
    "  data_content = json.loads(data)"
   ]
  },
  {
   "cell_type": "code",
   "execution_count": null,
   "metadata": {
    "id": "9ZMQqeCNaNIT"
   },
   "outputs": [],
   "source": [
    "df = pd.DataFrame(data_content['images'])"
   ]
  },
  {
   "cell_type": "code",
   "execution_count": null,
   "metadata": {
    "colab": {
     "base_uri": "https://localhost:8080/",
     "height": 419
    },
    "id": "iUTdG3eRZ3VM",
    "outputId": "eba135ca-2a86-4e0e-ac0d-722082dd6814"
   },
   "outputs": [
    {
     "data": {
      "text/html": [
       "<div>\n",
       "<style scoped>\n",
       "    .dataframe tbody tr th:only-of-type {\n",
       "        vertical-align: middle;\n",
       "    }\n",
       "\n",
       "    .dataframe tbody tr th {\n",
       "        vertical-align: top;\n",
       "    }\n",
       "\n",
       "    .dataframe thead th {\n",
       "        text-align: right;\n",
       "    }\n",
       "</style>\n",
       "<table border=\"1\" class=\"dataframe\">\n",
       "  <thead>\n",
       "    <tr style=\"text-align: right;\">\n",
       "      <th></th>\n",
       "      <th>file_name</th>\n",
       "      <th>vizwiz_url</th>\n",
       "      <th>id</th>\n",
       "      <th>text_detected</th>\n",
       "    </tr>\n",
       "  </thead>\n",
       "  <tbody>\n",
       "    <tr>\n",
       "      <th>0</th>\n",
       "      <td>VizWiz_val_00000000.jpg</td>\n",
       "      <td>https://ivc.ischool.utexas.edu/VizWiz_visualiz...</td>\n",
       "      <td>23431</td>\n",
       "      <td>True</td>\n",
       "    </tr>\n",
       "    <tr>\n",
       "      <th>1</th>\n",
       "      <td>VizWiz_val_00000001.jpg</td>\n",
       "      <td>https://ivc.ischool.utexas.edu/VizWiz_visualiz...</td>\n",
       "      <td>23432</td>\n",
       "      <td>True</td>\n",
       "    </tr>\n",
       "    <tr>\n",
       "      <th>2</th>\n",
       "      <td>VizWiz_val_00000002.jpg</td>\n",
       "      <td>https://ivc.ischool.utexas.edu/VizWiz_visualiz...</td>\n",
       "      <td>23433</td>\n",
       "      <td>True</td>\n",
       "    </tr>\n",
       "    <tr>\n",
       "      <th>3</th>\n",
       "      <td>VizWiz_val_00000003.jpg</td>\n",
       "      <td>https://ivc.ischool.utexas.edu/VizWiz_visualiz...</td>\n",
       "      <td>23434</td>\n",
       "      <td>True</td>\n",
       "    </tr>\n",
       "    <tr>\n",
       "      <th>4</th>\n",
       "      <td>VizWiz_val_00000004.jpg</td>\n",
       "      <td>https://ivc.ischool.utexas.edu/VizWiz_visualiz...</td>\n",
       "      <td>23435</td>\n",
       "      <td>True</td>\n",
       "    </tr>\n",
       "    <tr>\n",
       "      <th>...</th>\n",
       "      <td>...</td>\n",
       "      <td>...</td>\n",
       "      <td>...</td>\n",
       "      <td>...</td>\n",
       "    </tr>\n",
       "    <tr>\n",
       "      <th>7745</th>\n",
       "      <td>VizWiz_val_00007745.jpg</td>\n",
       "      <td>https://ivc.ischool.utexas.edu/VizWiz_visualiz...</td>\n",
       "      <td>31176</td>\n",
       "      <td>True</td>\n",
       "    </tr>\n",
       "    <tr>\n",
       "      <th>7746</th>\n",
       "      <td>VizWiz_val_00007746.jpg</td>\n",
       "      <td>https://ivc.ischool.utexas.edu/VizWiz_visualiz...</td>\n",
       "      <td>31177</td>\n",
       "      <td>True</td>\n",
       "    </tr>\n",
       "    <tr>\n",
       "      <th>7747</th>\n",
       "      <td>VizWiz_val_00007747.jpg</td>\n",
       "      <td>https://ivc.ischool.utexas.edu/VizWiz_visualiz...</td>\n",
       "      <td>31178</td>\n",
       "      <td>True</td>\n",
       "    </tr>\n",
       "    <tr>\n",
       "      <th>7748</th>\n",
       "      <td>VizWiz_val_00007748.jpg</td>\n",
       "      <td>https://ivc.ischool.utexas.edu/VizWiz_visualiz...</td>\n",
       "      <td>31179</td>\n",
       "      <td>False</td>\n",
       "    </tr>\n",
       "    <tr>\n",
       "      <th>7749</th>\n",
       "      <td>VizWiz_val_00007749.jpg</td>\n",
       "      <td>https://ivc.ischool.utexas.edu/VizWiz_visualiz...</td>\n",
       "      <td>31180</td>\n",
       "      <td>True</td>\n",
       "    </tr>\n",
       "  </tbody>\n",
       "</table>\n",
       "<p>7750 rows × 4 columns</p>\n",
       "</div>"
      ],
      "text/plain": [
       "                    file_name  ... text_detected\n",
       "0     VizWiz_val_00000000.jpg  ...          True\n",
       "1     VizWiz_val_00000001.jpg  ...          True\n",
       "2     VizWiz_val_00000002.jpg  ...          True\n",
       "3     VizWiz_val_00000003.jpg  ...          True\n",
       "4     VizWiz_val_00000004.jpg  ...          True\n",
       "...                       ...  ...           ...\n",
       "7745  VizWiz_val_00007745.jpg  ...          True\n",
       "7746  VizWiz_val_00007746.jpg  ...          True\n",
       "7747  VizWiz_val_00007747.jpg  ...          True\n",
       "7748  VizWiz_val_00007748.jpg  ...         False\n",
       "7749  VizWiz_val_00007749.jpg  ...          True\n",
       "\n",
       "[7750 rows x 4 columns]"
      ]
     },
     "execution_count": 150,
     "metadata": {
      "tags": []
     },
     "output_type": "execute_result"
    }
   ],
   "source": [
    "df"
   ]
  },
  {
   "cell_type": "code",
   "execution_count": null,
   "metadata": {
    "colab": {
     "base_uri": "https://localhost:8080/"
    },
    "id": "LWdxqfHgaCbL",
    "outputId": "2842f761-e704-438f-9dcb-4d58296df46d"
   },
   "outputs": [
    {
     "data": {
      "text/plain": [
       "True     5018\n",
       "False    2732\n",
       "Name: text_detected, dtype: int64"
      ]
     },
     "execution_count": 154,
     "metadata": {
      "tags": []
     },
     "output_type": "execute_result"
    }
   ],
   "source": [
    "df.text_detected.value_counts()"
   ]
  },
  {
   "cell_type": "code",
   "execution_count": null,
   "metadata": {
    "colab": {
     "base_uri": "https://localhost:8080/",
     "height": 419
    },
    "id": "BdQLTKZ5bKcj",
    "outputId": "8c8e6286-b423-4864-abcc-be6252a29d86"
   },
   "outputs": [
    {
     "data": {
      "text/html": [
       "<div>\n",
       "<style scoped>\n",
       "    .dataframe tbody tr th:only-of-type {\n",
       "        vertical-align: middle;\n",
       "    }\n",
       "\n",
       "    .dataframe tbody tr th {\n",
       "        vertical-align: top;\n",
       "    }\n",
       "\n",
       "    .dataframe thead th {\n",
       "        text-align: right;\n",
       "    }\n",
       "</style>\n",
       "<table border=\"1\" class=\"dataframe\">\n",
       "  <thead>\n",
       "    <tr style=\"text-align: right;\">\n",
       "      <th></th>\n",
       "      <th>file_name</th>\n",
       "      <th>vizwiz_url</th>\n",
       "      <th>id</th>\n",
       "      <th>text_detected</th>\n",
       "    </tr>\n",
       "  </thead>\n",
       "  <tbody>\n",
       "    <tr>\n",
       "      <th>0</th>\n",
       "      <td>VizWiz_train_00000000.jpg</td>\n",
       "      <td>https://ivc.ischool.utexas.edu/VizWiz_visualiz...</td>\n",
       "      <td>0</td>\n",
       "      <td>True</td>\n",
       "    </tr>\n",
       "    <tr>\n",
       "      <th>1</th>\n",
       "      <td>VizWiz_train_00000001.jpg</td>\n",
       "      <td>https://ivc.ischool.utexas.edu/VizWiz_visualiz...</td>\n",
       "      <td>1</td>\n",
       "      <td>True</td>\n",
       "    </tr>\n",
       "    <tr>\n",
       "      <th>2</th>\n",
       "      <td>VizWiz_train_00000002.jpg</td>\n",
       "      <td>https://ivc.ischool.utexas.edu/VizWiz_visualiz...</td>\n",
       "      <td>2</td>\n",
       "      <td>True</td>\n",
       "    </tr>\n",
       "    <tr>\n",
       "      <th>3</th>\n",
       "      <td>VizWiz_train_00000003.jpg</td>\n",
       "      <td>https://ivc.ischool.utexas.edu/VizWiz_visualiz...</td>\n",
       "      <td>3</td>\n",
       "      <td>True</td>\n",
       "    </tr>\n",
       "    <tr>\n",
       "      <th>4</th>\n",
       "      <td>VizWiz_train_00000004.jpg</td>\n",
       "      <td>https://ivc.ischool.utexas.edu/VizWiz_visualiz...</td>\n",
       "      <td>4</td>\n",
       "      <td>True</td>\n",
       "    </tr>\n",
       "    <tr>\n",
       "      <th>...</th>\n",
       "      <td>...</td>\n",
       "      <td>...</td>\n",
       "      <td>...</td>\n",
       "      <td>...</td>\n",
       "    </tr>\n",
       "    <tr>\n",
       "      <th>23426</th>\n",
       "      <td>VizWiz_train_00023426.jpg</td>\n",
       "      <td>https://ivc.ischool.utexas.edu/VizWiz_visualiz...</td>\n",
       "      <td>23426</td>\n",
       "      <td>True</td>\n",
       "    </tr>\n",
       "    <tr>\n",
       "      <th>23427</th>\n",
       "      <td>VizWiz_train_00023427.jpg</td>\n",
       "      <td>https://ivc.ischool.utexas.edu/VizWiz_visualiz...</td>\n",
       "      <td>23427</td>\n",
       "      <td>False</td>\n",
       "    </tr>\n",
       "    <tr>\n",
       "      <th>23428</th>\n",
       "      <td>VizWiz_train_00023428.jpg</td>\n",
       "      <td>https://ivc.ischool.utexas.edu/VizWiz_visualiz...</td>\n",
       "      <td>23428</td>\n",
       "      <td>True</td>\n",
       "    </tr>\n",
       "    <tr>\n",
       "      <th>23429</th>\n",
       "      <td>VizWiz_train_00023429.jpg</td>\n",
       "      <td>https://ivc.ischool.utexas.edu/VizWiz_visualiz...</td>\n",
       "      <td>23429</td>\n",
       "      <td>True</td>\n",
       "    </tr>\n",
       "    <tr>\n",
       "      <th>23430</th>\n",
       "      <td>VizWiz_train_00023430.jpg</td>\n",
       "      <td>https://ivc.ischool.utexas.edu/VizWiz_visualiz...</td>\n",
       "      <td>23430</td>\n",
       "      <td>True</td>\n",
       "    </tr>\n",
       "  </tbody>\n",
       "</table>\n",
       "<p>23431 rows × 4 columns</p>\n",
       "</div>"
      ],
      "text/plain": [
       "                       file_name  ... text_detected\n",
       "0      VizWiz_train_00000000.jpg  ...          True\n",
       "1      VizWiz_train_00000001.jpg  ...          True\n",
       "2      VizWiz_train_00000002.jpg  ...          True\n",
       "3      VizWiz_train_00000003.jpg  ...          True\n",
       "4      VizWiz_train_00000004.jpg  ...          True\n",
       "...                          ...  ...           ...\n",
       "23426  VizWiz_train_00023426.jpg  ...          True\n",
       "23427  VizWiz_train_00023427.jpg  ...         False\n",
       "23428  VizWiz_train_00023428.jpg  ...          True\n",
       "23429  VizWiz_train_00023429.jpg  ...          True\n",
       "23430  VizWiz_train_00023430.jpg  ...          True\n",
       "\n",
       "[23431 rows x 4 columns]"
      ]
     },
     "execution_count": 156,
     "metadata": {
      "tags": []
     },
     "output_type": "execute_result"
    }
   ],
   "source": [
    "df1 = pd.DataFrame(data_content['images'])\n",
    "df1"
   ]
  },
  {
   "cell_type": "code",
   "execution_count": null,
   "metadata": {
    "colab": {
     "base_uri": "https://localhost:8080/"
    },
    "id": "ZaVD03YIcxRD",
    "outputId": "44c0d486-9aa2-4737-ccf7-bf4327b6d8cf"
   },
   "outputs": [
    {
     "data": {
      "text/plain": [
       "True     14701\n",
       "False     8730\n",
       "Name: text_detected, dtype: int64"
      ]
     },
     "execution_count": 157,
     "metadata": {
      "tags": []
     },
     "output_type": "execute_result"
    }
   ],
   "source": [
    "df1.text_detected.value_counts()"
   ]
  },
  {
   "cell_type": "code",
   "execution_count": null,
   "metadata": {
    "colab": {
     "base_uri": "https://localhost:8080/",
     "height": 542
    },
    "id": "HMu6Rb2eczrN",
    "outputId": "f73104da-f5ef-40c8-ff8d-b04d7b70d6cf"
   },
   "outputs": [
    {
     "data": {
      "text/html": [
       "<html>\n",
       "<head><meta charset=\"utf-8\" /></head>\n",
       "<body>\n",
       "    <div>\n",
       "            <script src=\"https://cdnjs.cloudflare.com/ajax/libs/mathjax/2.7.5/MathJax.js?config=TeX-AMS-MML_SVG\"></script><script type=\"text/javascript\">if (window.MathJax) {MathJax.Hub.Config({SVG: {font: \"STIX-Web\"}});}</script>\n",
       "                <script type=\"text/javascript\">window.PlotlyConfig = {MathJaxConfig: 'local'};</script>\n",
       "        <script src=\"https://cdn.plot.ly/plotly-latest.min.js\"></script>    \n",
       "            <div id=\"a5e5a08b-db0e-4e81-a528-571450cfa321\" class=\"plotly-graph-div\" style=\"height:525px; width:100%;\"></div>\n",
       "            <script type=\"text/javascript\">\n",
       "                \n",
       "                    window.PLOTLYENV=window.PLOTLYENV || {};\n",
       "                    \n",
       "                if (document.getElementById(\"a5e5a08b-db0e-4e81-a528-571450cfa321\")) {\n",
       "                    Plotly.newPlot(\n",
       "                        'a5e5a08b-db0e-4e81-a528-571450cfa321',\n",
       "                        [{\"domain\": {\"x\": [0.0, 0.45], \"y\": [0.0, 1.0]}, \"hole\": 0.5, \"labels\": [\"True\", \"False\"], \"marker\": {\"colors\": [\"rgb(0,255,255)\", \"rgb(100,200,255)\", \"rgb(0,35,102)\", \"rgb(0,0,139)\", \"rgb(0,0,205)\"]}, \"name\": \"Train\", \"type\": \"pie\", \"values\": [14701, 8730]}, {\"domain\": {\"x\": [0.55, 1.0], \"y\": [0.0, 1.0]}, \"hole\": 0.5, \"labels\": [\"True\", \"False\"], \"marker\": {\"colors\": [\"rgb(0,255,255)\", \"rgb(100,200,255)\", \"rgb(0,35,102)\", \"rgb(0,0,139)\", \"rgb(0,0,205)\"]}, \"name\": \"Validation\", \"type\": \"pie\", \"values\": [5018, 2732]}],\n",
       "                        {\"annotations\": [{\"font\": {\"size\": 20}, \"showarrow\": false, \"text\": \"Train\", \"x\": 0.18, \"y\": 0.5}, {\"font\": {\"size\": 20}, \"showarrow\": false, \"text\": \"Val\", \"x\": 0.82, \"y\": 0.5}], \"template\": {\"data\": {\"bar\": [{\"error_x\": {\"color\": \"#2a3f5f\"}, \"error_y\": {\"color\": \"#2a3f5f\"}, \"marker\": {\"line\": {\"color\": \"#E5ECF6\", \"width\": 0.5}}, \"type\": \"bar\"}], \"barpolar\": [{\"marker\": {\"line\": {\"color\": \"#E5ECF6\", \"width\": 0.5}}, \"type\": \"barpolar\"}], \"carpet\": [{\"aaxis\": {\"endlinecolor\": \"#2a3f5f\", \"gridcolor\": \"white\", \"linecolor\": \"white\", \"minorgridcolor\": \"white\", \"startlinecolor\": \"#2a3f5f\"}, \"baxis\": {\"endlinecolor\": \"#2a3f5f\", \"gridcolor\": \"white\", \"linecolor\": \"white\", \"minorgridcolor\": \"white\", \"startlinecolor\": \"#2a3f5f\"}, \"type\": \"carpet\"}], \"choropleth\": [{\"colorbar\": {\"outlinewidth\": 0, \"ticks\": \"\"}, \"type\": \"choropleth\"}], \"contour\": [{\"colorbar\": {\"outlinewidth\": 0, \"ticks\": \"\"}, \"colorscale\": [[0.0, \"#0d0887\"], [0.1111111111111111, \"#46039f\"], [0.2222222222222222, \"#7201a8\"], [0.3333333333333333, \"#9c179e\"], [0.4444444444444444, \"#bd3786\"], [0.5555555555555556, \"#d8576b\"], [0.6666666666666666, \"#ed7953\"], [0.7777777777777778, \"#fb9f3a\"], [0.8888888888888888, \"#fdca26\"], [1.0, \"#f0f921\"]], \"type\": \"contour\"}], \"contourcarpet\": [{\"colorbar\": {\"outlinewidth\": 0, \"ticks\": \"\"}, \"type\": \"contourcarpet\"}], \"heatmap\": [{\"colorbar\": {\"outlinewidth\": 0, \"ticks\": \"\"}, \"colorscale\": [[0.0, \"#0d0887\"], [0.1111111111111111, \"#46039f\"], [0.2222222222222222, \"#7201a8\"], [0.3333333333333333, \"#9c179e\"], [0.4444444444444444, \"#bd3786\"], [0.5555555555555556, \"#d8576b\"], [0.6666666666666666, \"#ed7953\"], [0.7777777777777778, \"#fb9f3a\"], [0.8888888888888888, \"#fdca26\"], [1.0, \"#f0f921\"]], \"type\": \"heatmap\"}], \"heatmapgl\": [{\"colorbar\": {\"outlinewidth\": 0, \"ticks\": \"\"}, \"colorscale\": [[0.0, \"#0d0887\"], [0.1111111111111111, \"#46039f\"], [0.2222222222222222, \"#7201a8\"], [0.3333333333333333, \"#9c179e\"], [0.4444444444444444, \"#bd3786\"], [0.5555555555555556, \"#d8576b\"], [0.6666666666666666, \"#ed7953\"], [0.7777777777777778, \"#fb9f3a\"], [0.8888888888888888, \"#fdca26\"], [1.0, \"#f0f921\"]], \"type\": \"heatmapgl\"}], \"histogram\": [{\"marker\": {\"colorbar\": {\"outlinewidth\": 0, \"ticks\": \"\"}}, \"type\": \"histogram\"}], \"histogram2d\": [{\"colorbar\": {\"outlinewidth\": 0, \"ticks\": \"\"}, \"colorscale\": [[0.0, \"#0d0887\"], [0.1111111111111111, \"#46039f\"], [0.2222222222222222, \"#7201a8\"], [0.3333333333333333, \"#9c179e\"], [0.4444444444444444, \"#bd3786\"], [0.5555555555555556, \"#d8576b\"], [0.6666666666666666, \"#ed7953\"], [0.7777777777777778, \"#fb9f3a\"], [0.8888888888888888, \"#fdca26\"], [1.0, \"#f0f921\"]], \"type\": \"histogram2d\"}], \"histogram2dcontour\": [{\"colorbar\": {\"outlinewidth\": 0, \"ticks\": \"\"}, \"colorscale\": [[0.0, \"#0d0887\"], [0.1111111111111111, \"#46039f\"], [0.2222222222222222, \"#7201a8\"], [0.3333333333333333, \"#9c179e\"], [0.4444444444444444, \"#bd3786\"], [0.5555555555555556, \"#d8576b\"], [0.6666666666666666, \"#ed7953\"], [0.7777777777777778, \"#fb9f3a\"], [0.8888888888888888, \"#fdca26\"], [1.0, \"#f0f921\"]], \"type\": \"histogram2dcontour\"}], \"mesh3d\": [{\"colorbar\": {\"outlinewidth\": 0, \"ticks\": \"\"}, \"type\": \"mesh3d\"}], \"parcoords\": [{\"line\": {\"colorbar\": {\"outlinewidth\": 0, \"ticks\": \"\"}}, \"type\": \"parcoords\"}], \"pie\": [{\"automargin\": true, \"type\": \"pie\"}], \"scatter\": [{\"marker\": {\"colorbar\": {\"outlinewidth\": 0, \"ticks\": \"\"}}, \"type\": \"scatter\"}], \"scatter3d\": [{\"line\": {\"colorbar\": {\"outlinewidth\": 0, \"ticks\": \"\"}}, \"marker\": {\"colorbar\": {\"outlinewidth\": 0, \"ticks\": \"\"}}, \"type\": \"scatter3d\"}], \"scattercarpet\": [{\"marker\": {\"colorbar\": {\"outlinewidth\": 0, \"ticks\": \"\"}}, \"type\": \"scattercarpet\"}], \"scattergeo\": [{\"marker\": {\"colorbar\": {\"outlinewidth\": 0, \"ticks\": \"\"}}, \"type\": \"scattergeo\"}], \"scattergl\": [{\"marker\": {\"colorbar\": {\"outlinewidth\": 0, \"ticks\": \"\"}}, \"type\": \"scattergl\"}], \"scattermapbox\": [{\"marker\": {\"colorbar\": {\"outlinewidth\": 0, \"ticks\": \"\"}}, \"type\": \"scattermapbox\"}], \"scatterpolar\": [{\"marker\": {\"colorbar\": {\"outlinewidth\": 0, \"ticks\": \"\"}}, \"type\": \"scatterpolar\"}], \"scatterpolargl\": [{\"marker\": {\"colorbar\": {\"outlinewidth\": 0, \"ticks\": \"\"}}, \"type\": \"scatterpolargl\"}], \"scatterternary\": [{\"marker\": {\"colorbar\": {\"outlinewidth\": 0, \"ticks\": \"\"}}, \"type\": \"scatterternary\"}], \"surface\": [{\"colorbar\": {\"outlinewidth\": 0, \"ticks\": \"\"}, \"colorscale\": [[0.0, \"#0d0887\"], [0.1111111111111111, \"#46039f\"], [0.2222222222222222, \"#7201a8\"], [0.3333333333333333, \"#9c179e\"], [0.4444444444444444, \"#bd3786\"], [0.5555555555555556, \"#d8576b\"], [0.6666666666666666, \"#ed7953\"], [0.7777777777777778, \"#fb9f3a\"], [0.8888888888888888, \"#fdca26\"], [1.0, \"#f0f921\"]], \"type\": \"surface\"}], \"table\": [{\"cells\": {\"fill\": {\"color\": \"#EBF0F8\"}, \"line\": {\"color\": \"white\"}}, \"header\": {\"fill\": {\"color\": \"#C8D4E3\"}, \"line\": {\"color\": \"white\"}}, \"type\": \"table\"}]}, \"layout\": {\"annotationdefaults\": {\"arrowcolor\": \"#2a3f5f\", \"arrowhead\": 0, \"arrowwidth\": 1}, \"coloraxis\": {\"colorbar\": {\"outlinewidth\": 0, \"ticks\": \"\"}}, \"colorscale\": {\"diverging\": [[0, \"#8e0152\"], [0.1, \"#c51b7d\"], [0.2, \"#de77ae\"], [0.3, \"#f1b6da\"], [0.4, \"#fde0ef\"], [0.5, \"#f7f7f7\"], [0.6, \"#e6f5d0\"], [0.7, \"#b8e186\"], [0.8, \"#7fbc41\"], [0.9, \"#4d9221\"], [1, \"#276419\"]], \"sequential\": [[0.0, \"#0d0887\"], [0.1111111111111111, \"#46039f\"], [0.2222222222222222, \"#7201a8\"], [0.3333333333333333, \"#9c179e\"], [0.4444444444444444, \"#bd3786\"], [0.5555555555555556, \"#d8576b\"], [0.6666666666666666, \"#ed7953\"], [0.7777777777777778, \"#fb9f3a\"], [0.8888888888888888, \"#fdca26\"], [1.0, \"#f0f921\"]], \"sequentialminus\": [[0.0, \"#0d0887\"], [0.1111111111111111, \"#46039f\"], [0.2222222222222222, \"#7201a8\"], [0.3333333333333333, \"#9c179e\"], [0.4444444444444444, \"#bd3786\"], [0.5555555555555556, \"#d8576b\"], [0.6666666666666666, \"#ed7953\"], [0.7777777777777778, \"#fb9f3a\"], [0.8888888888888888, \"#fdca26\"], [1.0, \"#f0f921\"]]}, \"colorway\": [\"#636efa\", \"#EF553B\", \"#00cc96\", \"#ab63fa\", \"#FFA15A\", \"#19d3f3\", \"#FF6692\", \"#B6E880\", \"#FF97FF\", \"#FECB52\"], \"font\": {\"color\": \"#2a3f5f\"}, \"geo\": {\"bgcolor\": \"white\", \"lakecolor\": \"white\", \"landcolor\": \"#E5ECF6\", \"showlakes\": true, \"showland\": true, \"subunitcolor\": \"white\"}, \"hoverlabel\": {\"align\": \"left\"}, \"hovermode\": \"closest\", \"mapbox\": {\"style\": \"light\"}, \"paper_bgcolor\": \"white\", \"plot_bgcolor\": \"#E5ECF6\", \"polar\": {\"angularaxis\": {\"gridcolor\": \"white\", \"linecolor\": \"white\", \"ticks\": \"\"}, \"bgcolor\": \"#E5ECF6\", \"radialaxis\": {\"gridcolor\": \"white\", \"linecolor\": \"white\", \"ticks\": \"\"}}, \"scene\": {\"xaxis\": {\"backgroundcolor\": \"#E5ECF6\", \"gridcolor\": \"white\", \"gridwidth\": 2, \"linecolor\": \"white\", \"showbackground\": true, \"ticks\": \"\", \"zerolinecolor\": \"white\"}, \"yaxis\": {\"backgroundcolor\": \"#E5ECF6\", \"gridcolor\": \"white\", \"gridwidth\": 2, \"linecolor\": \"white\", \"showbackground\": true, \"ticks\": \"\", \"zerolinecolor\": \"white\"}, \"zaxis\": {\"backgroundcolor\": \"#E5ECF6\", \"gridcolor\": \"white\", \"gridwidth\": 2, \"linecolor\": \"white\", \"showbackground\": true, \"ticks\": \"\", \"zerolinecolor\": \"white\"}}, \"shapedefaults\": {\"line\": {\"color\": \"#2a3f5f\"}}, \"ternary\": {\"aaxis\": {\"gridcolor\": \"white\", \"linecolor\": \"white\", \"ticks\": \"\"}, \"baxis\": {\"gridcolor\": \"white\", \"linecolor\": \"white\", \"ticks\": \"\"}, \"bgcolor\": \"#E5ECF6\", \"caxis\": {\"gridcolor\": \"white\", \"linecolor\": \"white\", \"ticks\": \"\"}}, \"title\": {\"x\": 0.05}, \"xaxis\": {\"automargin\": true, \"gridcolor\": \"white\", \"linecolor\": \"white\", \"ticks\": \"\", \"title\": {\"standoff\": 15}, \"zerolinecolor\": \"white\", \"zerolinewidth\": 2}, \"yaxis\": {\"automargin\": true, \"gridcolor\": \"white\", \"linecolor\": \"white\", \"ticks\": \"\", \"title\": {\"standoff\": 15}, \"zerolinecolor\": \"white\", \"zerolinewidth\": 2}}}, \"title\": {\"text\": \"Quality issue: No of caption instance\"}},\n",
       "                        {\"responsive\": true}\n",
       "                    ).then(function(){\n",
       "                            \n",
       "var gd = document.getElementById('a5e5a08b-db0e-4e81-a528-571450cfa321');\n",
       "var x = new MutationObserver(function (mutations, observer) {{\n",
       "        var display = window.getComputedStyle(gd).display;\n",
       "        if (!display || display === 'none') {{\n",
       "            console.log([gd, 'removed!']);\n",
       "            Plotly.purge(gd);\n",
       "            observer.disconnect();\n",
       "        }}\n",
       "}});\n",
       "\n",
       "// Listen for the removal of the full notebook cells\n",
       "var notebookContainer = gd.closest('#notebook-container');\n",
       "if (notebookContainer) {{\n",
       "    x.observe(notebookContainer, {childList: true});\n",
       "}}\n",
       "\n",
       "// Listen for the clearing of the current output cell\n",
       "var outputEl = gd.closest('.output');\n",
       "if (outputEl) {{\n",
       "    x.observe(outputEl, {childList: true});\n",
       "}}\n",
       "\n",
       "                        })\n",
       "                };\n",
       "                \n",
       "            </script>\n",
       "        </div>\n",
       "</body>\n",
       "</html>"
      ]
     },
     "metadata": {
      "tags": []
     },
     "output_type": "display_data"
    }
   ],
   "source": [
    "import plotly.graph_objects as go\n",
    "from plotly.subplots import make_subplots\n",
    "\n",
    "cafe_colors =  ['rgb(0,255,255)', 'rgb(100,200,255)', 'rgb(0,35,102)', 'rgb(0,0,139)', 'rgb(0,0,205)']\n",
    "\n",
    "labels = ['True','False']\n",
    "\n",
    "# Create subplots: use 'domain' type for Pie subplot\n",
    "fig = make_subplots(rows=1, cols=2, specs=[[{'type':'domain'}, {'type':'domain'}]])\n",
    "fig.add_trace(go.Pie(labels=labels, values=[14701, 8730], name=\"Train\"),\n",
    "              1, 1)\n",
    "fig.add_trace(go.Pie(labels=labels, values=[5018, 2732], name=\"Validation\"),\n",
    "              1, 2)\n",
    "\n",
    "# Use `hole` to create a donut-like pie chart\n",
    "fig.update_traces(hole=.5, marker_colors=cafe_colors)\n",
    "\n",
    "fig.update_layout(\n",
    "    title_text=\"Quality issue: No of caption instance\",\n",
    "    # Add annotations in the center of the donut pies.\n",
    "    annotations=[dict(text='Train', x=0.18, y=0.5, font_size=20, showarrow=False),\n",
    "                 dict(text='Val', x=0.82, y=0.5, font_size=20, showarrow=False)])\n",
    "fig.show()"
   ]
  },
  {
   "cell_type": "code",
   "execution_count": null,
   "metadata": {
    "id": "4NHOiqsQeCp1"
   },
   "outputs": [],
   "source": []
  }
 ],
 "metadata": {
  "colab": {
   "name": "vizwiz.ipynb",
   "provenance": []
  },
  "kernelspec": {
   "display_name": "Python 3",
   "language": "python",
   "name": "python3"
  },
  "language_info": {
   "codemirror_mode": {
    "name": "ipython",
    "version": 3
   },
   "file_extension": ".py",
   "mimetype": "text/x-python",
   "name": "python",
   "nbconvert_exporter": "python",
   "pygments_lexer": "ipython3",
   "version": "3.7.4"
  }
 },
 "nbformat": 4,
 "nbformat_minor": 1
}
